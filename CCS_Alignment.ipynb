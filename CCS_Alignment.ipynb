{
 "cells": [
  {
   "cell_type": "markdown",
   "metadata": {},
   "source": [
    "# Deep learning the collisional cross sections of the peptide universe from a million experimental values"
   ]
  },
  {
   "cell_type": "markdown",
   "metadata": {},
   "source": [
    "Florian Meier, Niklas D. Köhler, Andreas-David Brunner, Jean-Marc H. Wanka, Eugenia Voytik, Maximilian T. Strauss, Fabian J. Theis, Matthias Mann"
   ]
  },
  {
   "cell_type": "markdown",
   "metadata": {},
   "source": [
    "Pre-print: https://doi.org/10.1101/2020.05.19.102285  \n",
    "Publication: pending"
   ]
  },
  {
   "cell_type": "markdown",
   "metadata": {},
   "source": [
    "revised 09/2020"
   ]
  },
  {
   "cell_type": "code",
   "execution_count": 4,
   "metadata": {},
   "outputs": [],
   "source": [
    "import numpy as np\n",
    "import pandas as pd\n",
    "import matplotlib.pyplot as plt\n",
    "import seaborn as sns\n",
    "import matplotlib.colors\n",
    "import glob\n",
    "\n",
    "from numba import jit, prange, autojit, njit\n",
    "import time\n",
    "\n",
    "from scipy import stats\n",
    "from scipy import optimize\n",
    "import scipy.spatial as spatial\n",
    "import scipy.cluster.hierarchy as shc\n",
    "import scipy.spatial.distance as ssd\n",
    "\n",
    "from tqdm import tqdm_notebook as tqdm"
   ]
  },
  {
   "cell_type": "code",
   "execution_count": 2,
   "metadata": {},
   "outputs": [],
   "source": [
    "@njit\n",
    "def mean_dist_pairwise(matrix, shape):\n",
    "    dist = np.zeros((shape,shape))\n",
    "    \n",
    "    for i in prange(shape):\n",
    "        for j in prange(shape):\n",
    "            dist[j,i] = np.nanmean(matrix[:,i] - matrix[:,j])\n",
    "    \n",
    "    return dist  "
   ]
  },
  {
   "cell_type": "markdown",
   "metadata": {},
   "source": [
    "#### Import raw data from MaxQuant output"
   ]
  },
  {
   "cell_type": "code",
   "execution_count": 7,
   "metadata": {},
   "outputs": [
    {
     "data": {
      "text/html": [
       "<div>\n",
       "<style scoped>\n",
       "    .dataframe tbody tr th:only-of-type {\n",
       "        vertical-align: middle;\n",
       "    }\n",
       "\n",
       "    .dataframe tbody tr th {\n",
       "        vertical-align: top;\n",
       "    }\n",
       "\n",
       "    .dataframe thead th {\n",
       "        text-align: right;\n",
       "    }\n",
       "</style>\n",
       "<table border=\"1\" class=\"dataframe\">\n",
       "  <thead>\n",
       "    <tr style=\"text-align: right;\">\n",
       "      <th></th>\n",
       "      <th>Sequence</th>\n",
       "      <th>Length</th>\n",
       "      <th>Modifications</th>\n",
       "      <th>Modified sequence</th>\n",
       "      <th>Oxidation (M) Probabilities</th>\n",
       "      <th>Oxidation (M) Score Diffs</th>\n",
       "      <th>Acetyl (Protein N-term)</th>\n",
       "      <th>Oxidation (M)</th>\n",
       "      <th>Missed cleavages (Trypsin/P)</th>\n",
       "      <th>Missed cleavages (LysN)</th>\n",
       "      <th>...</th>\n",
       "      <th>Protein group IDs</th>\n",
       "      <th>Peptide ID</th>\n",
       "      <th>Mod. peptide ID</th>\n",
       "      <th>MS/MS IDs</th>\n",
       "      <th>Best MS/MS</th>\n",
       "      <th>AIF MS/MS IDs</th>\n",
       "      <th>Oxidation (M) site IDs</th>\n",
       "      <th>Missed cleavages</th>\n",
       "      <th>Unnamed: 0</th>\n",
       "      <th>1/K0</th>\n",
       "    </tr>\n",
       "  </thead>\n",
       "  <tbody>\n",
       "    <tr>\n",
       "      <th>0</th>\n",
       "      <td>AAAAAAAEAAAAAEAAAAAAAEAAAEQK</td>\n",
       "      <td>28</td>\n",
       "      <td>Unmodified</td>\n",
       "      <td>_AAAAAAAEAAAAAEAAAAAAAEAAAEQK_</td>\n",
       "      <td>NaN</td>\n",
       "      <td>NaN</td>\n",
       "      <td>0</td>\n",
       "      <td>0</td>\n",
       "      <td>0.0</td>\n",
       "      <td>1.0</td>\n",
       "      <td>...</td>\n",
       "      <td>66</td>\n",
       "      <td>0</td>\n",
       "      <td>0</td>\n",
       "      <td>0</td>\n",
       "      <td>0</td>\n",
       "      <td>NaN</td>\n",
       "      <td>NaN</td>\n",
       "      <td>NaN</td>\n",
       "      <td>NaN</td>\n",
       "      <td>NaN</td>\n",
       "    </tr>\n",
       "    <tr>\n",
       "      <th>1</th>\n",
       "      <td>AAAAAAAEAAAAAEAAAAAAAEAAAEQK</td>\n",
       "      <td>28</td>\n",
       "      <td>Unmodified</td>\n",
       "      <td>_AAAAAAAEAAAAAEAAAAAAAEAAAEQK_</td>\n",
       "      <td>NaN</td>\n",
       "      <td>NaN</td>\n",
       "      <td>0</td>\n",
       "      <td>0</td>\n",
       "      <td>0.0</td>\n",
       "      <td>1.0</td>\n",
       "      <td>...</td>\n",
       "      <td>66</td>\n",
       "      <td>0</td>\n",
       "      <td>0</td>\n",
       "      <td>1</td>\n",
       "      <td>1</td>\n",
       "      <td>NaN</td>\n",
       "      <td>NaN</td>\n",
       "      <td>NaN</td>\n",
       "      <td>NaN</td>\n",
       "      <td>NaN</td>\n",
       "    </tr>\n",
       "    <tr>\n",
       "      <th>2</th>\n",
       "      <td>AAAAAAAEAAASTTNGEANGVQESAATESK</td>\n",
       "      <td>30</td>\n",
       "      <td>Unmodified</td>\n",
       "      <td>_AAAAAAAEAAASTTNGEANGVQESAATESK_</td>\n",
       "      <td>NaN</td>\n",
       "      <td>NaN</td>\n",
       "      <td>0</td>\n",
       "      <td>0</td>\n",
       "      <td>0.0</td>\n",
       "      <td>1.0</td>\n",
       "      <td>...</td>\n",
       "      <td>4253</td>\n",
       "      <td>1</td>\n",
       "      <td>1</td>\n",
       "      <td>2</td>\n",
       "      <td>2</td>\n",
       "      <td>NaN</td>\n",
       "      <td>NaN</td>\n",
       "      <td>NaN</td>\n",
       "      <td>NaN</td>\n",
       "      <td>NaN</td>\n",
       "    </tr>\n",
       "    <tr>\n",
       "      <th>3</th>\n",
       "      <td>AAAADAAGDAADNGTSK</td>\n",
       "      <td>17</td>\n",
       "      <td>Unmodified</td>\n",
       "      <td>_AAAADAAGDAADNGTSK_</td>\n",
       "      <td>NaN</td>\n",
       "      <td>NaN</td>\n",
       "      <td>0</td>\n",
       "      <td>0</td>\n",
       "      <td>0.0</td>\n",
       "      <td>1.0</td>\n",
       "      <td>...</td>\n",
       "      <td>5600</td>\n",
       "      <td>2</td>\n",
       "      <td>2</td>\n",
       "      <td>3</td>\n",
       "      <td>3</td>\n",
       "      <td>NaN</td>\n",
       "      <td>NaN</td>\n",
       "      <td>NaN</td>\n",
       "      <td>NaN</td>\n",
       "      <td>NaN</td>\n",
       "    </tr>\n",
       "    <tr>\n",
       "      <th>4</th>\n",
       "      <td>AAAADAAGDAADNGTSK</td>\n",
       "      <td>17</td>\n",
       "      <td>Unmodified</td>\n",
       "      <td>_AAAADAAGDAADNGTSK_</td>\n",
       "      <td>NaN</td>\n",
       "      <td>NaN</td>\n",
       "      <td>0</td>\n",
       "      <td>0</td>\n",
       "      <td>0.0</td>\n",
       "      <td>1.0</td>\n",
       "      <td>...</td>\n",
       "      <td>5600</td>\n",
       "      <td>2</td>\n",
       "      <td>2</td>\n",
       "      <td>4</td>\n",
       "      <td>4</td>\n",
       "      <td>NaN</td>\n",
       "      <td>NaN</td>\n",
       "      <td>NaN</td>\n",
       "      <td>NaN</td>\n",
       "      <td>NaN</td>\n",
       "    </tr>\n",
       "  </tbody>\n",
       "</table>\n",
       "<p>5 rows × 76 columns</p>\n",
       "</div>"
      ],
      "text/plain": [
       "                         Sequence  Length Modifications  \\\n",
       "0    AAAAAAAEAAAAAEAAAAAAAEAAAEQK      28    Unmodified   \n",
       "1    AAAAAAAEAAAAAEAAAAAAAEAAAEQK      28    Unmodified   \n",
       "2  AAAAAAAEAAASTTNGEANGVQESAATESK      30    Unmodified   \n",
       "3               AAAADAAGDAADNGTSK      17    Unmodified   \n",
       "4               AAAADAAGDAADNGTSK      17    Unmodified   \n",
       "\n",
       "                  Modified sequence Oxidation (M) Probabilities  \\\n",
       "0    _AAAAAAAEAAAAAEAAAAAAAEAAAEQK_                         NaN   \n",
       "1    _AAAAAAAEAAAAAEAAAAAAAEAAAEQK_                         NaN   \n",
       "2  _AAAAAAAEAAASTTNGEANGVQESAATESK_                         NaN   \n",
       "3               _AAAADAAGDAADNGTSK_                         NaN   \n",
       "4               _AAAADAAGDAADNGTSK_                         NaN   \n",
       "\n",
       "  Oxidation (M) Score Diffs  Acetyl (Protein N-term)  Oxidation (M)  \\\n",
       "0                       NaN                        0              0   \n",
       "1                       NaN                        0              0   \n",
       "2                       NaN                        0              0   \n",
       "3                       NaN                        0              0   \n",
       "4                       NaN                        0              0   \n",
       "\n",
       "   Missed cleavages (Trypsin/P)  Missed cleavages (LysN) ...   \\\n",
       "0                           0.0                      1.0 ...    \n",
       "1                           0.0                      1.0 ...    \n",
       "2                           0.0                      1.0 ...    \n",
       "3                           0.0                      1.0 ...    \n",
       "4                           0.0                      1.0 ...    \n",
       "\n",
       "   Protein group IDs Peptide ID Mod. peptide ID MS/MS IDs Best MS/MS  \\\n",
       "0                 66          0               0         0          0   \n",
       "1                 66          0               0         1          1   \n",
       "2               4253          1               1         2          2   \n",
       "3               5600          2               2         3          3   \n",
       "4               5600          2               2         4          4   \n",
       "\n",
       "  AIF MS/MS IDs Oxidation (M) site IDs Missed cleavages  Unnamed: 0 1/K0  \n",
       "0           NaN                    NaN              NaN         NaN  NaN  \n",
       "1           NaN                    NaN              NaN         NaN  NaN  \n",
       "2           NaN                    NaN              NaN         NaN  NaN  \n",
       "3           NaN                    NaN              NaN         NaN  NaN  \n",
       "4           NaN                    NaN              NaN         NaN  NaN  \n",
       "\n",
       "[5 rows x 76 columns]"
      ]
     },
     "execution_count": 7,
     "metadata": {},
     "output_type": "execute_result"
    }
   ],
   "source": [
    "# Load evidence.txt files from folder\n",
    "filenames = glob.glob(\"data/evidence*.txt\")\n",
    "evidences = [pd.read_csv(filename, sep='\\t', engine='python', header=0) for filename in filenames]\n",
    "\n",
    "# Combine all evidences in one dataframe\n",
    "evidence_all = pd.concat(evidences, sort=False, ignore_index = True)\n",
    "\n",
    "# Clean up \n",
    "del evidences\n",
    "\n",
    "evidence_all.head()"
   ]
  },
  {
   "cell_type": "code",
   "execution_count": 8,
   "metadata": {},
   "outputs": [
    {
     "data": {
      "text/plain": [
       "2786717"
      ]
     },
     "execution_count": 8,
     "metadata": {},
     "output_type": "execute_result"
    }
   ],
   "source": [
    "# Drop reverse hits\n",
    "# Drop features with no intensity value\n",
    "# Drop charge 1 features\n",
    "\n",
    "evidence_all = evidence_all.loc[(evidence_all['Reverse'] != '+') & (evidence_all['Intensity'] > 0) & (evidence_all['Charge'] != 1)]\n",
    "len(evidence_all)"
   ]
  },
  {
   "cell_type": "code",
   "execution_count": 5,
   "metadata": {},
   "outputs": [
    {
     "data": {
      "text/plain": [
       "718917"
      ]
     },
     "execution_count": 5,
     "metadata": {},
     "output_type": "execute_result"
    }
   ],
   "source": [
    "# Keep only one evidence per raw file\n",
    "# Select feature with maximum intensity\n",
    "\n",
    "selection = ['Modified sequence', 'Sequence', 'Charge', 'Mass', 'm/z', 'CCS', 'Experiment', 'id', 'Intensity', 'Score', 'Length', 'Raw file']\n",
    "evidence_agg = evidence_all.loc[evidence_all.groupby(['Modified sequence', 'Charge', 'Raw file'])['Intensity'].idxmax()][selection]\n",
    "\n",
    "evidence_pivot_long = evidence_agg.pivot_table(index = ['Modified sequence', 'Charge'], \n",
    "                                          columns = 'Raw file', \n",
    "                                          values = 'CCS')\n",
    "del evidence_agg \n",
    "\n",
    "evidence_pivot_long = evidence_pivot_long.astype(np.float32)\n",
    "\n",
    "len(evidence_pivot_long)"
   ]
  },
  {
   "cell_type": "code",
   "execution_count": 6,
   "metadata": {},
   "outputs": [
    {
     "data": {
      "text/plain": [
       "(718917, 374862)"
      ]
     },
     "execution_count": 6,
     "metadata": {},
     "output_type": "execute_result"
    }
   ],
   "source": [
    "# Filter peptides with only one occurence to speed up and save memory (747 runs - 1)\n",
    "\n",
    "evidence_pivot = evidence_pivot_long.loc[evidence_pivot_long.isnull().sum(axis=1) < (len(set(evidence_all['Raw file'])) - 1)]\n",
    "evidence_pivot = evidence_pivot.astype(np.float32)\n",
    "\n",
    "len(evidence_pivot_long), len(evidence_pivot)"
   ]
  },
  {
   "cell_type": "markdown",
   "metadata": {},
   "source": [
    "#### Align CCS values"
   ]
  },
  {
   "cell_type": "code",
   "execution_count": 7,
   "metadata": {},
   "outputs": [
    {
     "name": "stdout",
     "output_type": "stream",
     "text": [
      "6.42309478521347\n"
     ]
    }
   ],
   "source": [
    "# calculate pair-wise distances\n",
    "\n",
    "start = time.time()\n",
    "evidence_distance = pd.DataFrame(mean_dist_pairwise(np.array(evidence_pivot), evidence_pivot.shape[1]))\n",
    "end = time.time()\n",
    "\n",
    "print((end - start)/60)"
   ]
  },
  {
   "cell_type": "code",
   "execution_count": 8,
   "metadata": {},
   "outputs": [
    {
     "data": {
      "text/plain": [
       "(747, 747)"
      ]
     },
     "execution_count": 8,
     "metadata": {},
     "output_type": "execute_result"
    }
   ],
   "source": [
    "evidence_distance.shape"
   ]
  },
  {
   "cell_type": "code",
   "execution_count": 9,
   "metadata": {},
   "outputs": [
    {
     "data": {
      "text/plain": [
       "(-180.5926513671875, 541.7779541015625)"
      ]
     },
     "execution_count": 9,
     "metadata": {},
     "output_type": "execute_result"
    }
   ],
   "source": [
    "# Fill NA distances with arbitrary large number\n",
    "evidence_distance_cluster = evidence_distance.fillna(3*evidence_distance.max().max())\n",
    "evidence_distance_cluster.min().min(), evidence_distance_cluster.max().max()"
   ]
  },
  {
   "cell_type": "code",
   "execution_count": 10,
   "metadata": {},
   "outputs": [
    {
     "name": "stdout",
     "output_type": "stream",
     "text": [
      "File exported.\n"
     ]
    }
   ],
   "source": [
    "# save result matrix\n",
    "evidence_distance.to_csv('output/evidence_distance_float32.csv', index=False)\n",
    "print('File exported.')"
   ]
  },
  {
   "cell_type": "code",
   "execution_count": 11,
   "metadata": {},
   "outputs": [],
   "source": [
    "# load result matrix\n",
    "evidence_distance = pd.read_csv('output/evidence_distance_float32.csv')"
   ]
  },
  {
   "cell_type": "code",
   "execution_count": 12,
   "metadata": {},
   "outputs": [
    {
     "data": {
      "text/plain": [
       "array([ 1.21554856,  1.02286336,  1.52692547, ..., -0.21146111,\n",
       "       -0.43880397, -0.89470349])"
      ]
     },
     "execution_count": 12,
     "metadata": {},
     "output_type": "execute_result"
    }
   ],
   "source": [
    "dist_matrix = ssd.squareform(evidence_distance_cluster, checks=False)\n",
    "dist_matrix"
   ]
  },
  {
   "cell_type": "code",
   "execution_count": 13,
   "metadata": {},
   "outputs": [
    {
     "data": {
      "image/png": "[encoded data removed]",
      "text/plain": [
       "<Figure size 1800x720 with 1 Axes>"
      ]
     },
     "metadata": {},
     "output_type": "display_data"
    }
   ],
   "source": [
    "# Perform hierarchical clustering to sort runs by distance\n",
    "\n",
    "Z = shc.linkage(abs(dist_matrix), 'ward')\n",
    "plt.figure(figsize=(25, 10))\n",
    "plt.title('Hierarchical Clustering Dendrogram')\n",
    "plt.xlabel('sample index or (cluster size)')\n",
    "plt.ylabel('distance')\n",
    "\n",
    "shc.dendrogram(\n",
    "    Z,\n",
    "    truncate_mode='lastp',  # show only the last p merged clusters\n",
    "    p=250,  # show only the last p merged clusters\n",
    "    leaf_rotation=90.,\n",
    "    leaf_font_size=12.,\n",
    "    show_contracted=True,  # to get a distribution impression in truncated branches\n",
    ")\n",
    "\n",
    "plt.show()"
   ]
  },
  {
   "cell_type": "code",
   "execution_count": 14,
   "metadata": {},
   "outputs": [],
   "source": [
    "nruns = len(evidence_pivot_long.columns) "
   ]
  },
  {
   "cell_type": "code",
   "execution_count": 15,
   "metadata": {},
   "outputs": [
    {
     "name": "stderr",
     "output_type": "stream",
     "text": [
      "C:\\ProgramData\\Anaconda3\\lib\\site-packages\\ipykernel_launcher.py:15: RuntimeWarning: Mean of empty slice\n",
      "  from ipykernel import kernelapp as app\n",
      "C:\\ProgramData\\Anaconda3\\lib\\site-packages\\ipykernel_launcher.py:8: RuntimeWarning: Mean of empty slice\n",
      "  \n",
      "C:\\ProgramData\\Anaconda3\\lib\\site-packages\\ipykernel_launcher.py:20: RuntimeWarning: Mean of empty slice\n"
     ]
    },
    {
     "name": "stdout",
     "output_type": "stream",
     "text": [
      "Clusters merged.\n"
     ]
    }
   ],
   "source": [
    "col = nruns\n",
    "nancount = 0\n",
    "\n",
    "for cluster in Z:\n",
    "    # loop through clusters and merge them pairwise      \n",
    "    \n",
    "    # align first\n",
    "    delta = np.nanmean(evidence_pivot_long.iloc[:, int(cluster[1])] - evidence_pivot_long.iloc[:, int(cluster[0])])   \n",
    "    #print(delta)\n",
    "    \n",
    "    if(~np.isnan(delta)):\n",
    "        # Merge neighboring runs \n",
    "        # Calculate mean\n",
    "\n",
    "        evidence_pivot_long[col] = np.nanmean([evidence_pivot_long.iloc[:, int(cluster[1])] - 0.5*delta, evidence_pivot_long.iloc[:, int(cluster[0])] + 0.5*delta], axis = 0)\n",
    "    else:\n",
    "        # NaN difference in a cluster to be merged   \n",
    "        # Merge runs but keep external calibration\n",
    "        \n",
    "        evidence_pivot_long[col] = np.nanmean([evidence_pivot_long.iloc[:, int(cluster[1])], evidence_pivot_long.iloc[:, int(cluster[0])]], axis = 0)\n",
    "\n",
    "        \n",
    "    col += 1\n",
    "    \n",
    "print('Clusters merged.')"
   ]
  },
  {
   "cell_type": "code",
   "execution_count": 16,
   "metadata": {},
   "outputs": [
    {
     "data": {
      "text/plain": [
       "(1493, 747)"
      ]
     },
     "execution_count": 16,
     "metadata": {},
     "output_type": "execute_result"
    }
   ],
   "source": [
    "# Store experimental values in separate datafram\n",
    "evidence_pivot_tmp = evidence_pivot_long.copy()\n",
    "evidence_pivot_long = evidence_pivot_long.iloc[:, 0:nruns]\n",
    "\n",
    "len(evidence_pivot_tmp.columns), len(evidence_pivot_long.columns)"
   ]
  },
  {
   "cell_type": "code",
   "execution_count": 17,
   "metadata": {},
   "outputs": [
    {
     "data": {
      "image/png": "[encoded data removed]",
      "text/plain": [
       "<Figure size 2160x576 with 1 Axes>"
      ]
     },
     "metadata": {},
     "output_type": "display_data"
    }
   ],
   "source": [
    "# Calculate deviation from mean to use as correction factors\n",
    "\n",
    "evidence_pivot_deviation = evidence_pivot_long.subtract(evidence_pivot_tmp.iloc[:, -1], axis = 0)\n",
    "evidence_pivot_deviation.mean(axis = 0, skipna = True).plot(figsize = (30,8))\n",
    "\n",
    "plt.xlabel('Raw file')\n",
    "plt.ylabel('Mean deviation from the median CCS');"
   ]
  },
  {
   "cell_type": "code",
   "execution_count": 18,
   "metadata": {},
   "outputs": [],
   "source": [
    "# Subtract run correction factor from each peptide CCS value in each run\n",
    "evidence_pivot_aligned = evidence_pivot_long.subtract(evidence_pivot_deviation.mean(axis = 0, skipna = True), axis = 1)"
   ]
  },
  {
   "cell_type": "code",
   "execution_count": 19,
   "metadata": {},
   "outputs": [
    {
     "name": "stdout",
     "output_type": "stream",
     "text": [
      "Aligned dataset exported.\n"
     ]
    }
   ],
   "source": [
    "# Export aligned dataset\n",
    "evidence_pivot_aligned.to_csv('output/evidence_pivot_aligned.csv', index=False)\n",
    "print('Aligned pivot dataset exported.')"
   ]
  },
  {
   "cell_type": "markdown",
   "metadata": {},
   "source": [
    "### Whole-proteome digests"
   ]
  },
  {
   "cell_type": "code",
   "execution_count": 5,
   "metadata": {},
   "outputs": [],
   "source": [
    "#evidence_pivot_aligned = pd.read_csv('output/evidence_pivot_aligned.csv')"
   ]
  },
  {
   "cell_type": "code",
   "execution_count": 25,
   "metadata": {},
   "outputs": [
    {
     "data": {
      "text/plain": [
       "(747, 360)"
      ]
     },
     "execution_count": 25,
     "metadata": {},
     "output_type": "execute_result"
    }
   ],
   "source": [
    "# Exclude Proteome Tools data\n",
    "proteometools = set(evidence_all.loc[evidence_all['Experiment'].isin(['Proteotypic', 'SRMATLAS', 'MissingGeneSet'])]['Raw file'])\n",
    "evidence_pivot_aligned_endo = evidence_pivot_aligned.drop(proteometools, axis = 1)\n",
    "\n",
    "len(evidence_pivot_aligned.columns), len(evidence_pivot_aligned_endo.columns)"
   ]
  },
  {
   "cell_type": "code",
   "execution_count": 37,
   "metadata": {},
   "outputs": [],
   "source": [
    "# Calculate mean CCS value from aligned data\n",
    "\n",
    "evidence_short_aligned = evidence_pivot_aligned_endo.drop(columns = evidence_pivot_aligned_endo.columns.tolist())\n",
    "evidence_short_aligned['CCS'] = evidence_pivot_aligned_endo.mean(axis = 1, skipna = True)\n",
    "evidence_short_aligned.reset_index(inplace = True)\n",
    "evidence_short_aligned = evidence_short_aligned.dropna()"
   ]
  },
  {
   "cell_type": "code",
   "execution_count": 27,
   "metadata": {},
   "outputs": [
    {
     "data": {
      "text/plain": [
       "2465262"
      ]
     },
     "execution_count": 27,
     "metadata": {},
     "output_type": "execute_result"
    }
   ],
   "source": [
    "# Select evidences\n",
    "\n",
    "group = ['CElegans_Tryp',\n",
    " 'Drosophila_LysC',\n",
    " 'Drosophila_LysN',\n",
    " 'Drosophila_Trp',\n",
    " 'Ecoli_LysC',\n",
    " 'Ecoli_LysN',\n",
    " 'Ecoli_trypsin',\n",
    " 'HeLa_LysC',\n",
    " 'HeLa_LysN',\n",
    " 'HeLa_Trp_2',\n",
    " 'HeLa_Trypsin_1',\n",
    " 'Yeast_LysC',\n",
    " 'Yeast_LysN',\n",
    " 'Yeast_Trypsin']    \n",
    "\n",
    "evidence_tmp = evidence_all.loc[evidence_all['Experiment'].isin(group)]\n",
    "len(evidence_tmp)"
   ]
  },
  {
   "cell_type": "code",
   "execution_count": 35,
   "metadata": {},
   "outputs": [],
   "source": [
    "# Select evidence columns of interest\n",
    "selection = ['Modified sequence', 'Sequence', 'Charge', 'Mass', 'm/z', 'Experiment', 'id', 'Intensity', 'Score', 'Length', 'Retention time']\n",
    "evidence_unique = evidence_tmp.loc[evidence_tmp.groupby(['Modified sequence', 'Charge'])['Intensity'].idxmax()][selection]"
   ]
  },
  {
   "cell_type": "code",
   "execution_count": 38,
   "metadata": {},
   "outputs": [
    {
     "data": {
      "text/plain": [
       "(559979, 559979)"
      ]
     },
     "execution_count": 38,
     "metadata": {},
     "output_type": "execute_result"
    }
   ],
   "source": [
    "len(evidence_short_aligned['CCS']), len(evidence_unique)"
   ]
  },
  {
   "cell_type": "code",
   "execution_count": 39,
   "metadata": {},
   "outputs": [
    {
     "data": {
      "text/html": [
       "<div>\n",
       "<style scoped>\n",
       "    .dataframe tbody tr th:only-of-type {\n",
       "        vertical-align: middle;\n",
       "    }\n",
       "\n",
       "    .dataframe tbody tr th {\n",
       "        vertical-align: top;\n",
       "    }\n",
       "\n",
       "    .dataframe thead th {\n",
       "        text-align: right;\n",
       "    }\n",
       "</style>\n",
       "<table border=\"1\" class=\"dataframe\">\n",
       "  <thead>\n",
       "    <tr style=\"text-align: right;\">\n",
       "      <th></th>\n",
       "      <th>Modified sequence</th>\n",
       "      <th>Sequence</th>\n",
       "      <th>Charge</th>\n",
       "      <th>Mass</th>\n",
       "      <th>m/z</th>\n",
       "      <th>Experiment</th>\n",
       "      <th>id</th>\n",
       "      <th>Intensity</th>\n",
       "      <th>Score</th>\n",
       "      <th>Length</th>\n",
       "      <th>Retention time</th>\n",
       "      <th>CCS</th>\n",
       "    </tr>\n",
       "  </thead>\n",
       "  <tbody>\n",
       "    <tr>\n",
       "      <th>953607</th>\n",
       "      <td>_(ac)AAAAAAAAAAGAAGGR_</td>\n",
       "      <td>AAAAAAAAAAGAAGGR</td>\n",
       "      <td>2</td>\n",
       "      <td>1239.63200</td>\n",
       "      <td>620.823275</td>\n",
       "      <td>HeLa_Trp_2</td>\n",
       "      <td>9</td>\n",
       "      <td>149810.0</td>\n",
       "      <td>162.800</td>\n",
       "      <td>16</td>\n",
       "      <td>70.140</td>\n",
       "      <td>409.092527</td>\n",
       "    </tr>\n",
       "    <tr>\n",
       "      <th>1305832</th>\n",
       "      <td>_(ac)AAAAAAAGAAGSAAPAAAAGAPGSGGAPSGSQGVLIGDR_</td>\n",
       "      <td>AAAAAAAGAAGSAAPAAAAGAPGSGGAPSGSQGVLIGDR</td>\n",
       "      <td>3</td>\n",
       "      <td>3144.55482</td>\n",
       "      <td>1049.192220</td>\n",
       "      <td>HeLa_Trypsin_1</td>\n",
       "      <td>124</td>\n",
       "      <td>194000.0</td>\n",
       "      <td>71.438</td>\n",
       "      <td>39</td>\n",
       "      <td>3947.700</td>\n",
       "      <td>772.098100</td>\n",
       "    </tr>\n",
       "    <tr>\n",
       "      <th>953624</th>\n",
       "      <td>_(ac)AAAAAAAGDSDSWDADAFSVEDPVRK_</td>\n",
       "      <td>AAAAAAAGDSDSWDADAFSVEDPVRK</td>\n",
       "      <td>2</td>\n",
       "      <td>2634.18340</td>\n",
       "      <td>1318.098980</td>\n",
       "      <td>HeLa_Trp_2</td>\n",
       "      <td>26</td>\n",
       "      <td>6416400.0</td>\n",
       "      <td>111.750</td>\n",
       "      <td>26</td>\n",
       "      <td>94.079</td>\n",
       "      <td>573.213220</td>\n",
       "    </tr>\n",
       "    <tr>\n",
       "      <th>953628</th>\n",
       "      <td>_(ac)AAAAAAAGDSDSWDADAFSVEDPVRK_</td>\n",
       "      <td>AAAAAAAGDSDSWDADAFSVEDPVRK</td>\n",
       "      <td>3</td>\n",
       "      <td>2634.18340</td>\n",
       "      <td>879.068411</td>\n",
       "      <td>HeLa_Trp_2</td>\n",
       "      <td>30</td>\n",
       "      <td>5400600.0</td>\n",
       "      <td>42.218</td>\n",
       "      <td>26</td>\n",
       "      <td>94.841</td>\n",
       "      <td>635.000577</td>\n",
       "    </tr>\n",
       "    <tr>\n",
       "      <th>953621</th>\n",
       "      <td>_(ac)AAAAAAAGDSDSWDADAFSVEDPVR_</td>\n",
       "      <td>AAAAAAAGDSDSWDADAFSVEDPVR</td>\n",
       "      <td>2</td>\n",
       "      <td>2506.08844</td>\n",
       "      <td>1254.051500</td>\n",
       "      <td>HeLa_Trp_2</td>\n",
       "      <td>23</td>\n",
       "      <td>245720.0</td>\n",
       "      <td>135.890</td>\n",
       "      <td>25</td>\n",
       "      <td>104.620</td>\n",
       "      <td>547.559190</td>\n",
       "    </tr>\n",
       "  </tbody>\n",
       "</table>\n",
       "</div>"
      ],
      "text/plain": [
       "                                     Modified sequence  \\\n",
       "953607                          _(ac)AAAAAAAAAAGAAGGR_   \n",
       "1305832  _(ac)AAAAAAAGAAGSAAPAAAAGAPGSGGAPSGSQGVLIGDR_   \n",
       "953624                _(ac)AAAAAAAGDSDSWDADAFSVEDPVRK_   \n",
       "953628                _(ac)AAAAAAAGDSDSWDADAFSVEDPVRK_   \n",
       "953621                 _(ac)AAAAAAAGDSDSWDADAFSVEDPVR_   \n",
       "\n",
       "                                        Sequence  Charge        Mass  \\\n",
       "953607                          AAAAAAAAAAGAAGGR       2  1239.63200   \n",
       "1305832  AAAAAAAGAAGSAAPAAAAGAPGSGGAPSGSQGVLIGDR       3  3144.55482   \n",
       "953624                AAAAAAAGDSDSWDADAFSVEDPVRK       2  2634.18340   \n",
       "953628                AAAAAAAGDSDSWDADAFSVEDPVRK       3  2634.18340   \n",
       "953621                 AAAAAAAGDSDSWDADAFSVEDPVR       2  2506.08844   \n",
       "\n",
       "                 m/z      Experiment   id  Intensity    Score  Length  \\\n",
       "953607    620.823275      HeLa_Trp_2    9   149810.0  162.800      16   \n",
       "1305832  1049.192220  HeLa_Trypsin_1  124   194000.0   71.438      39   \n",
       "953624   1318.098980      HeLa_Trp_2   26  6416400.0  111.750      26   \n",
       "953628    879.068411      HeLa_Trp_2   30  5400600.0   42.218      26   \n",
       "953621   1254.051500      HeLa_Trp_2   23   245720.0  135.890      25   \n",
       "\n",
       "         Retention time         CCS  \n",
       "953607           70.140  409.092527  \n",
       "1305832        3947.700  772.098100  \n",
       "953624           94.079  573.213220  \n",
       "953628           94.841  635.000577  \n",
       "953621          104.620  547.559190  "
      ]
     },
     "execution_count": 39,
     "metadata": {},
     "output_type": "execute_result"
    }
   ],
   "source": [
    "evidence_unique['CCS'] = evidence_short_aligned['CCS'].values\n",
    "evidence_unique.head()"
   ]
  },
  {
   "cell_type": "code",
   "execution_count": 40,
   "metadata": {},
   "outputs": [
    {
     "name": "stdout",
     "output_type": "stream",
     "text": [
      "Aligned dataset exported.\n"
     ]
    }
   ],
   "source": [
    "# Export aligned dataset for deep learning\n",
    "evidence_unique.to_csv('output/evidence_aligned.csv', index=False)\n",
    "print('Aligned dataset exported.')"
   ]
  },
  {
   "cell_type": "markdown",
   "metadata": {},
   "source": [
    "### ProteomeTools"
   ]
  },
  {
   "cell_type": "code",
   "execution_count": 47,
   "metadata": {},
   "outputs": [
    {
     "data": {
      "text/plain": [
       "(747, 387)"
      ]
     },
     "execution_count": 47,
     "metadata": {},
     "output_type": "execute_result"
    }
   ],
   "source": [
    "# Proteome Tools data\n",
    "proteometools = set(evidence_all.loc[~evidence_all['Experiment'].isin(['Proteotypic', 'SRMATLAS', 'MissingGeneSet'])]['Raw file'])\n",
    "evidence_pivot_aligned_PT = evidence_pivot_aligned.drop(proteometools, axis = 1)\n",
    "\n",
    "len(evidence_pivot_aligned.columns), len(evidence_pivot_aligned_PT.columns)"
   ]
  },
  {
   "cell_type": "code",
   "execution_count": 48,
   "metadata": {},
   "outputs": [],
   "source": [
    "# Calculate mean CCS value from aligned data\n",
    "\n",
    "evidence_short_aligned_PT = evidence_pivot_aligned_PT.drop(columns = evidence_pivot_aligned_PT.columns.tolist())\n",
    "evidence_short_aligned_PT['CCS'] = evidence_pivot_aligned_PT.mean(axis = 1, skipna = True)\n",
    "evidence_short_aligned_PT.reset_index(inplace = True)\n",
    "evidence_short_aligned_PT = evidence_short_aligned_PT.dropna()"
   ]
  },
  {
   "cell_type": "code",
   "execution_count": 49,
   "metadata": {},
   "outputs": [
    {
     "data": {
      "text/plain": [
       "321455"
      ]
     },
     "execution_count": 49,
     "metadata": {},
     "output_type": "execute_result"
    }
   ],
   "source": [
    "# Select evidences\n",
    "\n",
    "group = ['Proteotypic', 'SRMATLAS', 'MissingGeneSet']    \n",
    "\n",
    "evidence_tmp = evidence_all.loc[evidence_all['Experiment'].isin(group)]\n",
    "len(evidence_tmp)"
   ]
  },
  {
   "cell_type": "code",
   "execution_count": 50,
   "metadata": {},
   "outputs": [],
   "source": [
    "# Select evidence columns of interest\n",
    "selection = ['Modified sequence', 'Sequence', 'Charge', 'Mass', 'm/z', 'Experiment', 'id', 'Intensity', 'Score', 'Length', 'Retention time']\n",
    "evidence_unique_PT = evidence_tmp.loc[evidence_tmp.groupby(['Modified sequence', 'Charge'])['Intensity'].idxmax()][selection]"
   ]
  },
  {
   "cell_type": "code",
   "execution_count": 51,
   "metadata": {},
   "outputs": [
    {
     "data": {
      "text/plain": [
       "(213852, 213852)"
      ]
     },
     "execution_count": 51,
     "metadata": {},
     "output_type": "execute_result"
    }
   ],
   "source": [
    "len(evidence_short_aligned_PT['CCS']), len(evidence_unique_PT)"
   ]
  },
  {
   "cell_type": "code",
   "execution_count": 52,
   "metadata": {},
   "outputs": [
    {
     "data": {
      "text/html": [
       "<div>\n",
       "<style scoped>\n",
       "    .dataframe tbody tr th:only-of-type {\n",
       "        vertical-align: middle;\n",
       "    }\n",
       "\n",
       "    .dataframe tbody tr th {\n",
       "        vertical-align: top;\n",
       "    }\n",
       "\n",
       "    .dataframe thead th {\n",
       "        text-align: right;\n",
       "    }\n",
       "</style>\n",
       "<table border=\"1\" class=\"dataframe\">\n",
       "  <thead>\n",
       "    <tr style=\"text-align: right;\">\n",
       "      <th></th>\n",
       "      <th>Modified sequence</th>\n",
       "      <th>Sequence</th>\n",
       "      <th>Charge</th>\n",
       "      <th>Mass</th>\n",
       "      <th>m/z</th>\n",
       "      <th>Experiment</th>\n",
       "      <th>id</th>\n",
       "      <th>Intensity</th>\n",
       "      <th>Score</th>\n",
       "      <th>Length</th>\n",
       "      <th>Retention time</th>\n",
       "      <th>CCS</th>\n",
       "    </tr>\n",
       "  </thead>\n",
       "  <tbody>\n",
       "    <tr>\n",
       "      <th>1985360</th>\n",
       "      <td>_(ac)AAAAAAAAEQQSSNGPVKK_</td>\n",
       "      <td>AAAAAAAAEQQSSNGPVKK</td>\n",
       "      <td>2</td>\n",
       "      <td>1810.91734</td>\n",
       "      <td>906.465946</td>\n",
       "      <td>Proteotypic</td>\n",
       "      <td>11</td>\n",
       "      <td>21349.0</td>\n",
       "      <td>89.382</td>\n",
       "      <td>19</td>\n",
       "      <td>19.645</td>\n",
       "      <td>481.22925</td>\n",
       "    </tr>\n",
       "    <tr>\n",
       "      <th>1985406</th>\n",
       "      <td>_(ac)AAAAAATAAAAASIR_</td>\n",
       "      <td>AAAAAATAAAAASIR</td>\n",
       "      <td>2</td>\n",
       "      <td>1298.69426</td>\n",
       "      <td>650.354408</td>\n",
       "      <td>Proteotypic</td>\n",
       "      <td>57</td>\n",
       "      <td>29524.0</td>\n",
       "      <td>112.930</td>\n",
       "      <td>15</td>\n",
       "      <td>37.452</td>\n",
       "      <td>417.83014</td>\n",
       "    </tr>\n",
       "    <tr>\n",
       "      <th>1985414</th>\n",
       "      <td>_(ac)AAAAAAVGPGAGGAGSAVPGGAGPCATVSVFPGAR_</td>\n",
       "      <td>AAAAAAVGPGAGGAGSAVPGGAGPCATVSVFPGAR</td>\n",
       "      <td>3</td>\n",
       "      <td>2948.45629</td>\n",
       "      <td>983.826039</td>\n",
       "      <td>Proteotypic</td>\n",
       "      <td>65</td>\n",
       "      <td>27953.0</td>\n",
       "      <td>52.195</td>\n",
       "      <td>35</td>\n",
       "      <td>41.412</td>\n",
       "      <td>782.93520</td>\n",
       "    </tr>\n",
       "    <tr>\n",
       "      <th>1985417</th>\n",
       "      <td>_(ac)AAAAAETPEVLRECGCK_</td>\n",
       "      <td>AAAAAETPEVLRECGCK</td>\n",
       "      <td>2</td>\n",
       "      <td>1873.86623</td>\n",
       "      <td>937.940392</td>\n",
       "      <td>Proteotypic</td>\n",
       "      <td>68</td>\n",
       "      <td>27993.0</td>\n",
       "      <td>75.012</td>\n",
       "      <td>17</td>\n",
       "      <td>26.756</td>\n",
       "      <td>480.42407</td>\n",
       "    </tr>\n",
       "    <tr>\n",
       "      <th>1985421</th>\n",
       "      <td>_(ac)AAAAAGLGGGGAGPGPEAGDFLAR_</td>\n",
       "      <td>AAAAAGLGGGGAGPGPEAGDFLAR</td>\n",
       "      <td>2</td>\n",
       "      <td>2052.00247</td>\n",
       "      <td>1027.008510</td>\n",
       "      <td>Proteotypic</td>\n",
       "      <td>72</td>\n",
       "      <td>64770.0</td>\n",
       "      <td>123.920</td>\n",
       "      <td>24</td>\n",
       "      <td>39.708</td>\n",
       "      <td>515.89790</td>\n",
       "    </tr>\n",
       "  </tbody>\n",
       "</table>\n",
       "</div>"
      ],
      "text/plain": [
       "                                 Modified sequence  \\\n",
       "1985360                  _(ac)AAAAAAAAEQQSSNGPVKK_   \n",
       "1985406                      _(ac)AAAAAATAAAAASIR_   \n",
       "1985414  _(ac)AAAAAAVGPGAGGAGSAVPGGAGPCATVSVFPGAR_   \n",
       "1985417                    _(ac)AAAAAETPEVLRECGCK_   \n",
       "1985421             _(ac)AAAAAGLGGGGAGPGPEAGDFLAR_   \n",
       "\n",
       "                                    Sequence  Charge        Mass          m/z  \\\n",
       "1985360                  AAAAAAAAEQQSSNGPVKK       2  1810.91734   906.465946   \n",
       "1985406                      AAAAAATAAAAASIR       2  1298.69426   650.354408   \n",
       "1985414  AAAAAAVGPGAGGAGSAVPGGAGPCATVSVFPGAR       3  2948.45629   983.826039   \n",
       "1985417                    AAAAAETPEVLRECGCK       2  1873.86623   937.940392   \n",
       "1985421             AAAAAGLGGGGAGPGPEAGDFLAR       2  2052.00247  1027.008510   \n",
       "\n",
       "          Experiment  id  Intensity    Score  Length  Retention time  \\\n",
       "1985360  Proteotypic  11    21349.0   89.382      19          19.645   \n",
       "1985406  Proteotypic  57    29524.0  112.930      15          37.452   \n",
       "1985414  Proteotypic  65    27953.0   52.195      35          41.412   \n",
       "1985417  Proteotypic  68    27993.0   75.012      17          26.756   \n",
       "1985421  Proteotypic  72    64770.0  123.920      24          39.708   \n",
       "\n",
       "               CCS  \n",
       "1985360  481.22925  \n",
       "1985406  417.83014  \n",
       "1985414  782.93520  \n",
       "1985417  480.42407  \n",
       "1985421  515.89790  "
      ]
     },
     "execution_count": 52,
     "metadata": {},
     "output_type": "execute_result"
    }
   ],
   "source": [
    "evidence_unique_PT['CCS'] = evidence_short_aligned_PT['CCS'].values\n",
    "evidence_unique_PT.head()"
   ]
  },
  {
   "cell_type": "code",
   "execution_count": 54,
   "metadata": {},
   "outputs": [
    {
     "name": "stdout",
     "output_type": "stream",
     "text": [
      "Aligned dataset exported.\n"
     ]
    }
   ],
   "source": [
    "# Export aligned dataset for deep learning\n",
    "evidence_unique_PT.to_csv('output/evidence_aligned_PT.csv', index=False)\n",
    "print('Aligned dataset exported.')"
   ]
  },
  {
   "cell_type": "markdown",
   "metadata": {},
   "source": [
    "### Comparison whole-proteome measurements vs. ProteomeTools (experimental)"
   ]
  },
  {
   "cell_type": "code",
   "execution_count": 57,
   "metadata": {},
   "outputs": [],
   "source": [
    "evidence_PT = evidence_pivot_aligned_PT.drop(columns = evidence_pivot_aligned_PT.columns.tolist())\n",
    "evidence_PT['CCS'] = evidence_pivot_aligned_PT.mean(axis = 1, skipna = True)\n",
    "evidence_PT.reset_index(inplace = True)"
   ]
  },
  {
   "cell_type": "code",
   "execution_count": 58,
   "metadata": {},
   "outputs": [],
   "source": [
    "evidence_endo = evidence_pivot_aligned_endo.drop(columns = evidence_pivot_aligned_endo.columns.tolist())\n",
    "evidence_endo['CCS'] = evidence_pivot_aligned_endo.mean(axis = 1, skipna = True)\n",
    "evidence_endo.reset_index(inplace = True)"
   ]
  },
  {
   "cell_type": "code",
   "execution_count": 59,
   "metadata": {},
   "outputs": [
    {
     "data": {
      "text/plain": [
       "(718917, 718917)"
      ]
     },
     "execution_count": 59,
     "metadata": {},
     "output_type": "execute_result"
    }
   ],
   "source": [
    "len(evidence_PT), len(evidence_endo)"
   ]
  },
  {
   "cell_type": "code",
   "execution_count": 64,
   "metadata": {},
   "outputs": [
    {
     "data": {
      "image/png": "[encoded data removed]",
      "text/plain": [
       "<Figure size 432x288 with 1 Axes>"
      ]
     },
     "metadata": {},
     "output_type": "display_data"
    }
   ],
   "source": [
    "plt.scatter(evidence_endo['CCS'], evidence_PT['CCS'], s = 0.1, alpha = 0.1)\n",
    "plt.xlabel('CCS ($\\AA^2$), whole proteome digest')\n",
    "plt.ylabel('CCS ($\\AA^2$), ProteomeTools');"
   ]
  },
  {
   "cell_type": "code",
   "execution_count": 67,
   "metadata": {},
   "outputs": [
    {
     "name": "stdout",
     "output_type": "stream",
     "text": [
      "Pearson correlation: 0.995\n",
      "n = 54914\n"
     ]
    }
   ],
   "source": [
    "mask = ~np.logical_or(np.isnan(evidence_endo['CCS']), np.isnan(evidence_PT['CCS']))  \n",
    "pcorr = stats.pearsonr(np.compress(mask, evidence_endo['CCS']), np.compress(mask, evidence_PT['CCS']))[0]\n",
    "\n",
    "print('Pearson correlation: {:1.3f}'.format(pcorr))\n",
    "print('n = {0}'.format(mask.sum()))"
   ]
  },
  {
   "cell_type": "code",
   "execution_count": 72,
   "metadata": {},
   "outputs": [
    {
     "name": "stdout",
     "output_type": "stream",
     "text": [
      "Median absolute deviation = 0.6%\n"
     ]
    }
   ],
   "source": [
    "print('Median absolute deviation = {:1.1f}%'.format(np.abs((evidence_endo['CCS'] - evidence_PT['CCS'])/evidence_endo['CCS']*100).median()))"
   ]
  }
 ],
 "metadata": {
  "kernelspec": {
   "display_name": "Python 3",
   "language": "python",
   "name": "python3"
  },
  "language_info": {
   "codemirror_mode": {
    "name": "ipython",
    "version": 3
   },
   "file_extension": ".py",
   "mimetype": "text/x-python",
   "name": "python",
   "nbconvert_exporter": "python",
   "pygments_lexer": "ipython3",
   "version": "3.6.5"
  }
 },
 "nbformat": 4,
 "nbformat_minor": 2
}
