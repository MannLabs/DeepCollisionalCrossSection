{
 "cells": [
  {
   "cell_type": "markdown",
   "metadata": {},
   "source": [
    "# Deep learning the collisional cross sections of the peptide universe from a million experimental values"
   ]
  },
  {
   "cell_type": "markdown",
   "metadata": {},
   "source": [
    "Florian Meier, Niklas D. Köhler, Andreas-David Brunner, Jean-Marc H. Wanka, Eugenia Voytik, Maximilian T. Strauss, Fabian J. Theis, Matthias Mann"
   ]
  },
  {
   "cell_type": "markdown",
   "metadata": {},
   "source": [
    "Pre-print: https://doi.org/10.1101/2020.05.19.102285  \n",
    "Publication: pending"
   ]
  },
  {
   "cell_type": "markdown",
   "metadata": {},
   "source": [
    "revised 09/2020"
   ]
  },
  {
   "cell_type": "code",
   "execution_count": 1,
   "metadata": {},
   "outputs": [],
   "source": [
    "import numpy as np\n",
    "import pandas as pd\n",
    "import matplotlib.pyplot as plt\n",
    "import glob\n",
    "import time\n",
    "\n",
    "from numba import njit, prange\n",
    "\n",
    "import scipy.spatial as spatial\n",
    "from scipy import stats"
   ]
  },
  {
   "cell_type": "code",
   "execution_count": 2,
   "metadata": {},
   "outputs": [],
   "source": [
    "@njit\n",
    "def mean_dist_pairwise(matrix, shape):\n",
    "    dist = np.zeros((shape,shape))\n",
    "    \n",
    "    for i in prange(shape):\n",
    "        for j in prange(shape):\n",
    "            dist[j,i] = np.nanmean(matrix[:,i] - matrix[:,j])\n",
    "    \n",
    "    return dist   "
   ]
  },
  {
   "cell_type": "code",
   "execution_count": 3,
   "metadata": {},
   "outputs": [],
   "source": [
    "def overlap_pairwise(matrix, shape):\n",
    "    dist = np.zeros((shape,shape))\n",
    "    \n",
    "    for i in prange(shape):\n",
    "        for j in prange(shape):\n",
    "            x = matrix[:,i]\n",
    "            y = matrix[:,j]\n",
    "            \n",
    "            mask = ~np.logical_or(np.isnan(x), np.isnan(y))   \n",
    "            \n",
    "            dist[j,i] = mask.sum()\n",
    "                \n",
    "    return dist"
   ]
  },
  {
   "cell_type": "code",
   "execution_count": 4,
   "metadata": {},
   "outputs": [],
   "source": [
    "def pearson_pairwise(matrix, shape, minpoints):\n",
    "    dist = np.zeros((shape,shape))\n",
    "    \n",
    "    for i in prange(shape):\n",
    "        for j in prange(shape):\n",
    "            x = matrix[:,i]\n",
    "            y = matrix[:,j]\n",
    "            \n",
    "            mask = ~np.logical_or(np.isnan(x), np.isnan(y))           \n",
    "            \n",
    "            if(mask.sum() > minpoints):\n",
    "                dist[j,i] = stats.pearsonr(np.compress(mask, x), np.compress(mask, y))[0]\n",
    "            else:\n",
    "                dist[j,i] = np.nan\n",
    "    \n",
    "    return dist    "
   ]
  },
  {
   "cell_type": "markdown",
   "metadata": {},
   "source": [
    "#### Import raw data from MaxQuant output"
   ]
  },
  {
   "cell_type": "code",
   "execution_count": 5,
   "metadata": {},
   "outputs": [
    {
     "data": {
      "text/html": [
       "<div>\n",
       "<style scoped>\n",
       "    .dataframe tbody tr th:only-of-type {\n",
       "        vertical-align: middle;\n",
       "    }\n",
       "\n",
       "    .dataframe tbody tr th {\n",
       "        vertical-align: top;\n",
       "    }\n",
       "\n",
       "    .dataframe thead th {\n",
       "        text-align: right;\n",
       "    }\n",
       "</style>\n",
       "<table border=\"1\" class=\"dataframe\">\n",
       "  <thead>\n",
       "    <tr style=\"text-align: right;\">\n",
       "      <th></th>\n",
       "      <th>Sequence</th>\n",
       "      <th>Length</th>\n",
       "      <th>Modifications</th>\n",
       "      <th>Modified sequence</th>\n",
       "      <th>Oxidation (M) Probabilities</th>\n",
       "      <th>Oxidation (M) Score Diffs</th>\n",
       "      <th>Acetyl (Protein N-term)</th>\n",
       "      <th>Oxidation (M)</th>\n",
       "      <th>Missed cleavages</th>\n",
       "      <th>Proteins</th>\n",
       "      <th>...</th>\n",
       "      <th>Mod. peptide ID</th>\n",
       "      <th>MS/MS IDs</th>\n",
       "      <th>Best MS/MS</th>\n",
       "      <th>AIF MS/MS IDs</th>\n",
       "      <th>Oxidation (M) site IDs</th>\n",
       "      <th>Missed cleavages (Trypsin/P)</th>\n",
       "      <th>Missed cleavages (LysN)</th>\n",
       "      <th>Missed cleavages (LysC/P)</th>\n",
       "      <th>Unnamed: 0</th>\n",
       "      <th>1/K0</th>\n",
       "    </tr>\n",
       "  </thead>\n",
       "  <tbody>\n",
       "    <tr>\n",
       "      <th>0</th>\n",
       "      <td>AAAAELLLNLLFFEK</td>\n",
       "      <td>15</td>\n",
       "      <td>Unmodified</td>\n",
       "      <td>_AAAAELLLNLLFFEK_</td>\n",
       "      <td>NaN</td>\n",
       "      <td>NaN</td>\n",
       "      <td>0</td>\n",
       "      <td>0</td>\n",
       "      <td>0.0</td>\n",
       "      <td>G5EG62</td>\n",
       "      <td>...</td>\n",
       "      <td>0</td>\n",
       "      <td>0</td>\n",
       "      <td>0</td>\n",
       "      <td>NaN</td>\n",
       "      <td>NaN</td>\n",
       "      <td>NaN</td>\n",
       "      <td>NaN</td>\n",
       "      <td>NaN</td>\n",
       "      <td>NaN</td>\n",
       "      <td>NaN</td>\n",
       "    </tr>\n",
       "    <tr>\n",
       "      <th>1</th>\n",
       "      <td>AAAAELLLNLLFFEK</td>\n",
       "      <td>15</td>\n",
       "      <td>Unmodified</td>\n",
       "      <td>_AAAAELLLNLLFFEK_</td>\n",
       "      <td>NaN</td>\n",
       "      <td>NaN</td>\n",
       "      <td>0</td>\n",
       "      <td>0</td>\n",
       "      <td>0.0</td>\n",
       "      <td>G5EG62</td>\n",
       "      <td>...</td>\n",
       "      <td>0</td>\n",
       "      <td>1</td>\n",
       "      <td>1</td>\n",
       "      <td>NaN</td>\n",
       "      <td>NaN</td>\n",
       "      <td>NaN</td>\n",
       "      <td>NaN</td>\n",
       "      <td>NaN</td>\n",
       "      <td>NaN</td>\n",
       "      <td>NaN</td>\n",
       "    </tr>\n",
       "    <tr>\n",
       "      <th>2</th>\n",
       "      <td>AAAAIIDSTTETNKGDDYR</td>\n",
       "      <td>19</td>\n",
       "      <td>Unmodified</td>\n",
       "      <td>_AAAAIIDSTTETNKGDDYR_</td>\n",
       "      <td>NaN</td>\n",
       "      <td>NaN</td>\n",
       "      <td>0</td>\n",
       "      <td>0</td>\n",
       "      <td>1.0</td>\n",
       "      <td>G5EC97</td>\n",
       "      <td>...</td>\n",
       "      <td>1</td>\n",
       "      <td>2</td>\n",
       "      <td>2</td>\n",
       "      <td>NaN</td>\n",
       "      <td>NaN</td>\n",
       "      <td>NaN</td>\n",
       "      <td>NaN</td>\n",
       "      <td>NaN</td>\n",
       "      <td>NaN</td>\n",
       "      <td>NaN</td>\n",
       "    </tr>\n",
       "    <tr>\n",
       "      <th>3</th>\n",
       "      <td>AAAANLNYIR</td>\n",
       "      <td>10</td>\n",
       "      <td>Unmodified</td>\n",
       "      <td>_AAAANLNYIR_</td>\n",
       "      <td>NaN</td>\n",
       "      <td>NaN</td>\n",
       "      <td>0</td>\n",
       "      <td>0</td>\n",
       "      <td>0.0</td>\n",
       "      <td>P53588</td>\n",
       "      <td>...</td>\n",
       "      <td>2</td>\n",
       "      <td>3</td>\n",
       "      <td>3</td>\n",
       "      <td>NaN</td>\n",
       "      <td>NaN</td>\n",
       "      <td>NaN</td>\n",
       "      <td>NaN</td>\n",
       "      <td>NaN</td>\n",
       "      <td>NaN</td>\n",
       "      <td>NaN</td>\n",
       "    </tr>\n",
       "    <tr>\n",
       "      <th>4</th>\n",
       "      <td>AAAAPTISQSISTLTSGMR</td>\n",
       "      <td>19</td>\n",
       "      <td>Oxidation (M)</td>\n",
       "      <td>_AAAAPTISQSISTLTSGM(ox)R_</td>\n",
       "      <td>AAAAPTISQSISTLTSGM(1)R</td>\n",
       "      <td>AAAAPTISQSISTLTSGM(70.6)R</td>\n",
       "      <td>0</td>\n",
       "      <td>1</td>\n",
       "      <td>0.0</td>\n",
       "      <td>O02109</td>\n",
       "      <td>...</td>\n",
       "      <td>3</td>\n",
       "      <td>4</td>\n",
       "      <td>4</td>\n",
       "      <td>NaN</td>\n",
       "      <td>2035</td>\n",
       "      <td>NaN</td>\n",
       "      <td>NaN</td>\n",
       "      <td>NaN</td>\n",
       "      <td>NaN</td>\n",
       "      <td>NaN</td>\n",
       "    </tr>\n",
       "  </tbody>\n",
       "</table>\n",
       "<p>5 rows × 76 columns</p>\n",
       "</div>"
      ],
      "text/plain": [
       "              Sequence  Length  Modifications          Modified sequence  \\\n",
       "0      AAAAELLLNLLFFEK      15     Unmodified          _AAAAELLLNLLFFEK_   \n",
       "1      AAAAELLLNLLFFEK      15     Unmodified          _AAAAELLLNLLFFEK_   \n",
       "2  AAAAIIDSTTETNKGDDYR      19     Unmodified      _AAAAIIDSTTETNKGDDYR_   \n",
       "3           AAAANLNYIR      10     Unmodified               _AAAANLNYIR_   \n",
       "4  AAAAPTISQSISTLTSGMR      19  Oxidation (M)  _AAAAPTISQSISTLTSGM(ox)R_   \n",
       "\n",
       "  Oxidation (M) Probabilities  Oxidation (M) Score Diffs  \\\n",
       "0                         NaN                        NaN   \n",
       "1                         NaN                        NaN   \n",
       "2                         NaN                        NaN   \n",
       "3                         NaN                        NaN   \n",
       "4      AAAAPTISQSISTLTSGM(1)R  AAAAPTISQSISTLTSGM(70.6)R   \n",
       "\n",
       "   Acetyl (Protein N-term)  Oxidation (M)  Missed cleavages Proteins  ...  \\\n",
       "0                        0              0               0.0   G5EG62  ...   \n",
       "1                        0              0               0.0   G5EG62  ...   \n",
       "2                        0              0               1.0   G5EC97  ...   \n",
       "3                        0              0               0.0   P53588  ...   \n",
       "4                        0              1               0.0   O02109  ...   \n",
       "\n",
       "  Mod. peptide ID MS/MS IDs Best MS/MS AIF MS/MS IDs Oxidation (M) site IDs  \\\n",
       "0               0         0          0           NaN                    NaN   \n",
       "1               0         1          1           NaN                    NaN   \n",
       "2               1         2          2           NaN                    NaN   \n",
       "3               2         3          3           NaN                    NaN   \n",
       "4               3         4          4           NaN                   2035   \n",
       "\n",
       "  Missed cleavages (Trypsin/P)  Missed cleavages (LysN)  \\\n",
       "0                          NaN                      NaN   \n",
       "1                          NaN                      NaN   \n",
       "2                          NaN                      NaN   \n",
       "3                          NaN                      NaN   \n",
       "4                          NaN                      NaN   \n",
       "\n",
       "  Missed cleavages (LysC/P)  Unnamed: 0  1/K0  \n",
       "0                       NaN         NaN   NaN  \n",
       "1                       NaN         NaN   NaN  \n",
       "2                       NaN         NaN   NaN  \n",
       "3                       NaN         NaN   NaN  \n",
       "4                       NaN         NaN   NaN  \n",
       "\n",
       "[5 rows x 76 columns]"
      ]
     },
     "execution_count": 5,
     "metadata": {},
     "output_type": "execute_result"
    }
   ],
   "source": [
    "# Load evidence.txt files from folder\n",
    "filenames = glob.glob(\"data/evidence*.txt\")\n",
    "evidences = [pd.read_csv(filename, sep='\\t', engine='python', header=0) for filename in filenames]\n",
    "\n",
    "# Combine all evidences in one dataframe\n",
    "evidence_all = pd.concat(evidences, sort=False, ignore_index = True)\n",
    "\n",
    "# Clean up \n",
    "del evidences\n",
    "\n",
    "evidence_all.head()"
   ]
  },
  {
   "cell_type": "code",
   "execution_count": 6,
   "metadata": {},
   "outputs": [],
   "source": [
    "# Drop reverse hits\n",
    "# Drop features with no intensity value\n",
    "# Drop charge 1 features\n",
    "\n",
    "evidence_all = evidence_all.loc[(evidence_all['Reverse'] != '+') & \\\n",
    "                                (evidence_all['Intensity'] > 0) & \\\n",
    "                                (evidence_all['Charge'] != 1)]"
   ]
  },
  {
   "cell_type": "markdown",
   "metadata": {},
   "source": [
    "### Evaluating the precision and utility of TIMS CCS measurements"
   ]
  },
  {
   "cell_type": "code",
   "execution_count": 7,
   "metadata": {},
   "outputs": [
    {
     "data": {
      "text/plain": [
       "168"
      ]
     },
     "execution_count": 7,
     "metadata": {},
     "output_type": "execute_result"
    }
   ],
   "source": [
    "# Select tryptic subset\n",
    "\n",
    "selection = ['HeLa_Trypsin_1', 'HeLa_Trp_2', 'Drosophila_Trp', 'Yeast_Trypsin', 'Ecoli_trypsin', 'CElegans_Tryp']\n",
    "evidence_tryptic = evidence_all.loc[evidence_all['Experiment'].isin(selection)]\n",
    "\n",
    "len(set(evidence_tryptic['Raw file']))"
   ]
  },
  {
   "cell_type": "code",
   "execution_count": 8,
   "metadata": {},
   "outputs": [
    {
     "data": {
      "text/plain": [
       "(1612353, 382165)"
      ]
     },
     "execution_count": 8,
     "metadata": {},
     "output_type": "execute_result"
    }
   ],
   "source": [
    "# CCS values\n",
    "# Keep only one evidence per raw file\n",
    "\n",
    "# Maximum intensity\n",
    "selection = ['Modified sequence', 'Sequence', 'Charge', 'Mass', 'm/z', 'CCS', 'Experiment', 'id', 'Intensity', \n",
    "             'Score', 'Length', 'Raw file']\n",
    "evidence_agg = evidence_tryptic.loc[evidence_tryptic.groupby(\n",
    "    ['Modified sequence', 'Charge', 'Raw file'])['Intensity'].idxmax()][selection]\n",
    "\n",
    "evidence_pivot_tryptic_long_CCS = evidence_agg.pivot_table(index = ['Modified sequence', 'Charge'], \n",
    "                                          columns = 'Raw file', \n",
    "                                          values = 'CCS')\n",
    "del evidence_agg \n",
    "\n",
    "evidence_pivot_tryptic_long_CCS = evidence_pivot_tryptic_long_CCS.astype(np.float32)\n",
    "\n",
    "len(evidence_tryptic), len(evidence_pivot_tryptic_long_CCS)"
   ]
  },
  {
   "cell_type": "code",
   "execution_count": 9,
   "metadata": {},
   "outputs": [
    {
     "data": {
      "text/plain": [
       "(1612353, 382165)"
      ]
     },
     "execution_count": 9,
     "metadata": {},
     "output_type": "execute_result"
    }
   ],
   "source": [
    "# RT values\n",
    "# Keep only one evidence per raw file\n",
    "\n",
    "# Maximum intensity\n",
    "selection = ['Modified sequence', 'Sequence', 'Charge', 'Mass', 'm/z', 'CCS', 'Retention time', 'Experiment', \n",
    "             'id', 'Intensity', 'Score', 'Length', 'Raw file']\n",
    "evidence_agg = evidence_tryptic.loc[evidence_tryptic.groupby(\n",
    "    ['Modified sequence', 'Charge', 'Raw file'])['Intensity'].idxmax()][selection]\n",
    "\n",
    "evidence_pivot_tryptic_long_RT = evidence_agg.pivot_table(index = ['Modified sequence', 'Charge'], \n",
    "                                          columns = 'Raw file', \n",
    "                                          values = 'Retention time')\n",
    "del evidence_agg \n",
    "\n",
    "evidence_pivot_tryptic_long_RT = evidence_pivot_tryptic_long_RT.astype(np.float32)\n",
    "\n",
    "len(evidence_tryptic), len(evidence_pivot_tryptic_long_RT)"
   ]
  },
  {
   "cell_type": "code",
   "execution_count": 10,
   "metadata": {},
   "outputs": [
    {
     "data": {
      "text/plain": [
       "Index(['20180631_TIMS2_12-2_AnBr_SA_200ng_HeLa_50cm_100ms_11CT_120min_Fraction_10_B8_01_2600',\n",
       "       '20180631_TIMS2_12-2_AnBr_SA_200ng_HeLa_50cm_100ms_11CT_120min_Fraction_11_C8_01_2601',\n",
       "       '20180631_TIMS2_12-2_AnBr_SA_200ng_HeLa_50cm_100ms_11CT_120min_Fraction_12_D8_01_2602',\n",
       "       '20180631_TIMS2_12-2_AnBr_SA_200ng_HeLa_50cm_100ms_11CT_120min_Fraction_13_E8_01_2603',\n",
       "       '20180631_TIMS2_12-2_AnBr_SA_200ng_HeLa_50cm_100ms_11CT_120min_Fraction_14_F8_01_2604',\n",
       "       '20180631_TIMS2_12-2_AnBr_SA_200ng_HeLa_50cm_100ms_11CT_120min_Fraction_15_G8_01_2605',\n",
       "       '20180631_TIMS2_12-2_AnBr_SA_200ng_HeLa_50cm_100ms_11CT_120min_Fraction_16_H8_01_2606',\n",
       "       '20180631_TIMS2_12-2_AnBr_SA_200ng_HeLa_50cm_100ms_11CT_120min_Fraction_17_A9_01_2607',\n",
       "       '20180631_TIMS2_12-2_AnBr_SA_200ng_HeLa_50cm_100ms_11CT_120min_Fraction_18_B9_01_2608',\n",
       "       '20180631_TIMS2_12-2_AnBr_SA_200ng_HeLa_50cm_100ms_11CT_120min_Fraction_19_C9_01_2609',\n",
       "       '20180631_TIMS2_12-2_AnBr_SA_200ng_HeLa_50cm_100ms_11CT_120min_Fraction_1_A7_01_2591',\n",
       "       '20180631_TIMS2_12-2_AnBr_SA_200ng_HeLa_50cm_100ms_11CT_120min_Fraction_20_D9_01_2610',\n",
       "       '20180631_TIMS2_12-2_AnBr_SA_200ng_HeLa_50cm_100ms_11CT_120min_Fraction_21_E9_01_2611',\n",
       "       '20180631_TIMS2_12-2_AnBr_SA_200ng_HeLa_50cm_100ms_11CT_120min_Fraction_22_F9_01_2612',\n",
       "       '20180631_TIMS2_12-2_AnBr_SA_200ng_HeLa_50cm_100ms_11CT_120min_Fraction_23_G9_01_2613',\n",
       "       '20180631_TIMS2_12-2_AnBr_SA_200ng_HeLa_50cm_100ms_11CT_120min_Fraction_24_H9_01_2614',\n",
       "       '20180631_TIMS2_12-2_AnBr_SA_200ng_HeLa_50cm_100ms_11CT_120min_Fraction_25_A10_01_2615',\n",
       "       '20180631_TIMS2_12-2_AnBr_SA_200ng_HeLa_50cm_100ms_11CT_120min_Fraction_29_E10_01_2622',\n",
       "       '20180631_TIMS2_12-2_AnBr_SA_200ng_HeLa_50cm_100ms_11CT_120min_Fraction_2_B7_01_2592',\n",
       "       '20180631_TIMS2_12-2_AnBr_SA_200ng_HeLa_50cm_100ms_11CT_120min_Fraction_30_F10_01_2623',\n",
       "       '20180631_TIMS2_12-2_AnBr_SA_200ng_HeLa_50cm_100ms_11CT_120min_Fraction_31_G10_01_2624',\n",
       "       '20180631_TIMS2_12-2_AnBr_SA_200ng_HeLa_50cm_100ms_11CT_120min_Fraction_32_H10_01_2625',\n",
       "       '20180631_TIMS2_12-2_AnBr_SA_200ng_HeLa_50cm_100ms_11CT_120min_Fraction_33_A11_01_2626',\n",
       "       '20180631_TIMS2_12-2_AnBr_SA_200ng_HeLa_50cm_100ms_11CT_120min_Fraction_34_B11_01_2627',\n",
       "       '20180631_TIMS2_12-2_AnBr_SA_200ng_HeLa_50cm_100ms_11CT_120min_Fraction_35_C11_01_2628',\n",
       "       '20180631_TIMS2_12-2_AnBr_SA_200ng_HeLa_50cm_100ms_11CT_120min_Fraction_36_D11_01_2629',\n",
       "       '20180631_TIMS2_12-2_AnBr_SA_200ng_HeLa_50cm_100ms_11CT_120min_Fraction_37_E11_01_2630',\n",
       "       '20180631_TIMS2_12-2_AnBr_SA_200ng_HeLa_50cm_100ms_11CT_120min_Fraction_38_F11_01_2631',\n",
       "       '20180631_TIMS2_12-2_AnBr_SA_200ng_HeLa_50cm_100ms_11CT_120min_Fraction_39_G11_01_2632',\n",
       "       '20180631_TIMS2_12-2_AnBr_SA_200ng_HeLa_50cm_100ms_11CT_120min_Fraction_3_C7_01_2593',\n",
       "       '20180631_TIMS2_12-2_AnBr_SA_200ng_HeLa_50cm_100ms_11CT_120min_Fraction_40_H11_01_2633',\n",
       "       '20180631_TIMS2_12-2_AnBr_SA_200ng_HeLa_50cm_100ms_11CT_120min_Fraction_41_A12_01_2634',\n",
       "       '20180631_TIMS2_12-2_AnBr_SA_200ng_HeLa_50cm_100ms_11CT_120min_Fraction_42_B12_01_2635',\n",
       "       '20180631_TIMS2_12-2_AnBr_SA_200ng_HeLa_50cm_100ms_11CT_120min_Fraction_43_C12_01_2636',\n",
       "       '20180631_TIMS2_12-2_AnBr_SA_200ng_HeLa_50cm_100ms_11CT_120min_Fraction_44_D12_01_2637',\n",
       "       '20180631_TIMS2_12-2_AnBr_SA_200ng_HeLa_50cm_100ms_11CT_120min_Fraction_45_E12_01_2638',\n",
       "       '20180631_TIMS2_12-2_AnBr_SA_200ng_HeLa_50cm_100ms_11CT_120min_Fraction_46_F12_01_2639',\n",
       "       '20180631_TIMS2_12-2_AnBr_SA_200ng_HeLa_50cm_100ms_11CT_120min_Fraction_47_G12_01_2658',\n",
       "       '20180631_TIMS2_12-2_AnBr_SA_200ng_HeLa_50cm_100ms_11CT_120min_Fraction_48_H12_01_2659',\n",
       "       '20180631_TIMS2_12-2_AnBr_SA_200ng_HeLa_50cm_100ms_11CT_120min_Fraction_4_D7_01_2594',\n",
       "       '20180631_TIMS2_12-2_AnBr_SA_200ng_HeLa_50cm_100ms_11CT_120min_Fraction_5_E7_01_2595',\n",
       "       '20180631_TIMS2_12-2_AnBr_SA_200ng_HeLa_50cm_100ms_11CT_120min_Fraction_6_F7_01_2596',\n",
       "       '20180631_TIMS2_12-2_AnBr_SA_200ng_HeLa_50cm_100ms_11CT_120min_Fraction_7_G7_01_2597',\n",
       "       '20180631_TIMS2_12-2_AnBr_SA_200ng_HeLa_50cm_100ms_11CT_120min_Fraction_8_H7_01_2598',\n",
       "       '20180631_TIMS2_12-2_AnBr_SA_200ng_HeLa_50cm_100ms_11CT_120min_Fraction_9_A8_01_2599',\n",
       "       '20180703_TIMS2_12-2_AnBr_SA_200ng_HeLa_50cm_100ms_11CT_120min_Fraction_26_B10_01_2670',\n",
       "       '20180703_TIMS2_12-2_AnBr_SA_200ng_HeLa_50cm_100ms_11CT_120min_Fraction_27_C10_01_2671',\n",
       "       '20180703_TIMS2_12-2_AnBr_SA_200ng_HeLa_50cm_100ms_11CT_120min_Fraction_28_D10_01_2672'],\n",
       "      dtype='object', name='Raw file')"
      ]
     },
     "execution_count": 10,
     "metadata": {},
     "output_type": "execute_result"
    }
   ],
   "source": [
    "evidence_pivot_tryptic_long_RT.iloc[:, 0:48].columns"
   ]
  },
  {
   "cell_type": "code",
   "execution_count": 11,
   "metadata": {},
   "outputs": [
    {
     "data": {
      "text/plain": [
       "Index(['20190504_TIMS1_FlMe_SA_HeLa_frac01_A10_1_93',\n",
       "       '20190504_TIMS1_FlMe_SA_HeLa_frac02_B10_1_94',\n",
       "       '20190504_TIMS1_FlMe_SA_HeLa_frac03_C10_1_95',\n",
       "       '20190504_TIMS1_FlMe_SA_HeLa_frac04_D10_1_96',\n",
       "       '20190504_TIMS1_FlMe_SA_HeLa_frac05_E10_1_97',\n",
       "       '20190504_TIMS1_FlMe_SA_HeLa_frac06_F10_1_98',\n",
       "       '20190504_TIMS1_FlMe_SA_HeLa_frac07_G10_1_99',\n",
       "       '20190504_TIMS1_FlMe_SA_HeLa_frac08_H10_1_126',\n",
       "       '20190504_TIMS1_FlMe_SA_HeLa_frac09_A11_1_101',\n",
       "       '20190504_TIMS1_FlMe_SA_HeLa_frac10_B11_1_102',\n",
       "       '20190504_TIMS1_FlMe_SA_HeLa_frac11_C11_1_103',\n",
       "       '20190504_TIMS1_FlMe_SA_HeLa_frac12_D11_1_104',\n",
       "       '20190504_TIMS1_FlMe_SA_HeLa_frac13_E11_1_105',\n",
       "       '20190504_TIMS1_FlMe_SA_HeLa_frac14_F11_1_106',\n",
       "       '20190504_TIMS1_FlMe_SA_HeLa_frac15_G11_1_107',\n",
       "       '20190504_TIMS1_FlMe_SA_HeLa_frac16_H11_1_108',\n",
       "       '20190504_TIMS1_FlMe_SA_HeLa_frac17_A12_1_109',\n",
       "       '20190504_TIMS1_FlMe_SA_HeLa_frac18_B12_1_110',\n",
       "       '20190504_TIMS1_FlMe_SA_HeLa_frac19_C12_1_111',\n",
       "       '20190504_TIMS1_FlMe_SA_HeLa_frac20_D12_1_112',\n",
       "       '20190504_TIMS1_FlMe_SA_HeLa_frac21_E12_1_113',\n",
       "       '20190504_TIMS1_FlMe_SA_HeLa_frac22_F12_1_114',\n",
       "       '20190504_TIMS1_FlMe_SA_HeLa_frac23_G12_1_115',\n",
       "       '20190504_TIMS1_FlMe_SA_HeLa_frac24_H12_1_116'],\n",
       "      dtype='object', name='Raw file')"
      ]
     },
     "execution_count": 11,
     "metadata": {},
     "output_type": "execute_result"
    }
   ],
   "source": [
    "evidence_pivot_tryptic_long_RT.iloc[:, 144:168].columns"
   ]
  },
  {
   "cell_type": "code",
   "execution_count": 12,
   "metadata": {},
   "outputs": [
    {
     "data": {
      "text/plain": [
       "(236156, 382165)"
      ]
     },
     "execution_count": 12,
     "metadata": {},
     "output_type": "execute_result"
    }
   ],
   "source": [
    "# Filter out peptides with only one occurence to speed up and save memory \n",
    "\n",
    "evidence_pivot_tryptic_CCS = evidence_pivot_tryptic_long_CCS.loc[\n",
    "    evidence_pivot_tryptic_long_CCS.isnull().sum(axis=1) < (len(set(evidence_tryptic['Raw file'])) - 1)]\n",
    "evidence_pivot_tryptic_RT = evidence_pivot_tryptic_long_RT.loc[\n",
    "    evidence_pivot_tryptic_long_RT.isnull().sum(axis=1) < (len(set(evidence_tryptic['Raw file'])) - 1)]\n",
    "\n",
    "len(evidence_pivot_tryptic_CCS), len(evidence_pivot_tryptic_long_CCS)"
   ]
  },
  {
   "cell_type": "code",
   "execution_count": 13,
   "metadata": {},
   "outputs": [
    {
     "name": "stdout",
     "output_type": "stream",
     "text": [
      "0.2907281200091044\n"
     ]
    }
   ],
   "source": [
    "# Calculate pairwise Pearson correlation for retention time values\n",
    "# requires > 4 shared data points for calculation\n",
    "\n",
    "start = time.time()\n",
    "evidence_tryptic_pearson_RT = pd.DataFrame(pearson_pairwise(np.array(evidence_pivot_tryptic_RT), \n",
    "                                                            evidence_pivot_tryptic_RT.shape[1], 4))\n",
    "end = time.time()\n",
    "\n",
    "print((end - start)/60)"
   ]
  },
  {
   "cell_type": "code",
   "execution_count": 14,
   "metadata": {},
   "outputs": [
    {
     "name": "stdout",
     "output_type": "stream",
     "text": [
      "0.2943243106206258\n"
     ]
    }
   ],
   "source": [
    "# Calculate pairwise Pearson correlation for CCS values\n",
    "# requires > 4 shared data points for calculation\n",
    "\n",
    "start = time.time()\n",
    "evidence_tryptic_pearson_CCS = pd.DataFrame(pearson_pairwise(np.array(evidence_pivot_tryptic_CCS), \n",
    "                                                             evidence_pivot_tryptic_CCS.shape[1], 4))\n",
    "end = time.time()\n",
    "\n",
    "print((end - start)/60)"
   ]
  },
  {
   "cell_type": "code",
   "execution_count": 15,
   "metadata": {},
   "outputs": [
    {
     "name": "stdout",
     "output_type": "stream",
     "text": [
      "0.16381396452585856\n"
     ]
    }
   ],
   "source": [
    "# Calculate pairwise overlap\n",
    "\n",
    "start = time.time()\n",
    "evidence_tryptic_overlap = pd.DataFrame(overlap_pairwise(np.array(evidence_pivot_tryptic_RT), \n",
    "                                                         evidence_pivot_tryptic_RT.shape[1]))\n",
    "end = time.time()\n",
    "\n",
    "print((end - start)/60)"
   ]
  },
  {
   "cell_type": "code",
   "execution_count": 16,
   "metadata": {},
   "outputs": [
    {
     "data": {
      "image/png": "[encoded data removed]",
      "text/plain": [
       "<Figure size 432x288 with 1 Axes>"
      ]
     },
     "metadata": {
      "needs_background": "light"
     },
     "output_type": "display_data"
    }
   ],
   "source": [
    "evidence_tryptic_pearson_CCS.iloc[0:48, 144:168].unstack().hist();"
   ]
  },
  {
   "cell_type": "code",
   "execution_count": 17,
   "metadata": {},
   "outputs": [
    {
     "data": {
      "text/plain": [
       "0.995"
      ]
     },
     "execution_count": 17,
     "metadata": {},
     "output_type": "execute_result"
    }
   ],
   "source": [
    "# Pearson correlation (CCS) of the two HeLa data sets\n",
    "np.round((evidence_tryptic_pearson_CCS.iloc[0:48, 144:168]).unstack().median(), 3)"
   ]
  },
  {
   "cell_type": "code",
   "execution_count": 18,
   "metadata": {},
   "outputs": [
    {
     "data": {
      "image/png": "[encoded data removed]",
      "text/plain": [
       "<Figure size 432x288 with 1 Axes>"
      ]
     },
     "metadata": {
      "needs_background": "light"
     },
     "output_type": "display_data"
    }
   ],
   "source": [
    "evidence_tryptic_pearson_RT.iloc[0:48, 144:168].unstack().hist();"
   ]
  },
  {
   "cell_type": "code",
   "execution_count": 19,
   "metadata": {},
   "outputs": [
    {
     "data": {
      "text/plain": [
       "0.99"
      ]
     },
     "execution_count": 19,
     "metadata": {},
     "output_type": "execute_result"
    }
   ],
   "source": [
    "# Pearson correlation (retention time) of the two HeLa data sets\n",
    "np.round((evidence_tryptic_pearson_RT.iloc[0:48, 144:168]).unstack().median(), 3)"
   ]
  },
  {
   "cell_type": "code",
   "execution_count": 20,
   "metadata": {},
   "outputs": [
    {
     "data": {
      "image/png": "[encoded data removed]",
      "text/plain": [
       "<Figure size 432x288 with 1 Axes>"
      ]
     },
     "metadata": {
      "needs_background": "light"
     },
     "output_type": "display_data"
    }
   ],
   "source": [
    "evidence_tryptic_overlap.iloc[0:48, 144:168].unstack().hist();"
   ]
  },
  {
   "cell_type": "code",
   "execution_count": 21,
   "metadata": {},
   "outputs": [
    {
     "data": {
      "text/plain": [
       "1264.0"
      ]
     },
     "execution_count": 21,
     "metadata": {},
     "output_type": "execute_result"
    }
   ],
   "source": [
    "# Pearson correlation (retention time) of the two HeLa data sets\n",
    "np.round(evidence_tryptic_overlap.iloc[0:48, 144:168].unstack().mean())"
   ]
  },
  {
   "cell_type": "code",
   "execution_count": 22,
   "metadata": {},
   "outputs": [
    {
     "data": {
      "image/png": "[encoded data removed]",
      "text/plain": [
       "<Figure size 648x432 with 2 Axes>"
      ]
     },
     "metadata": {
      "needs_background": "light"
     },
     "output_type": "display_data"
    }
   ],
   "source": [
    "plt.figure(figsize=(9,6))\n",
    "plt.title('Pearson correlation, retention time')\n",
    "plt.pcolor(evidence_tryptic_pearson_RT.iloc[0:48, 144:168], cmap='magma', vmin=0.9, vmax=1)\n",
    "plt.colorbar()\n",
    "\n",
    "plt.show()"
   ]
  },
  {
   "cell_type": "code",
   "execution_count": 23,
   "metadata": {},
   "outputs": [
    {
     "data": {
      "image/png": "[encoded data removed]",
      "text/plain": [
       "<Figure size 648x432 with 2 Axes>"
      ]
     },
     "metadata": {
      "needs_background": "light"
     },
     "output_type": "display_data"
    }
   ],
   "source": [
    "plt.figure(figsize=(9,6))\n",
    "plt.title('Pearson correlation, CCS')\n",
    "plt.pcolor(evidence_tryptic_pearson_CCS.iloc[0:48, 144:168], cmap='magma', vmin=0.9, vmax=1)\n",
    "plt.colorbar()\n",
    "\n",
    "plt.show()"
   ]
  },
  {
   "cell_type": "code",
   "execution_count": 24,
   "metadata": {},
   "outputs": [
    {
     "data": {
      "image/png": "[encoded data removed]",
      "text/plain": [
       "<Figure size 648x432 with 2 Axes>"
      ]
     },
     "metadata": {
      "needs_background": "light"
     },
     "output_type": "display_data"
    }
   ],
   "source": [
    "plt.figure(figsize=(9,6))\n",
    "plt.title('Overlapping features')\n",
    "plt.pcolor(evidence_tryptic_overlap.iloc[0:48, 144:168], cmap='magma')\n",
    "plt.colorbar()\n",
    "\n",
    "plt.show()"
   ]
  },
  {
   "cell_type": "code",
   "execution_count": 25,
   "metadata": {},
   "outputs": [],
   "source": [
    "# keep only triagonal matrix for figure\n",
    "\n",
    "evidence_tryptic_pearson_RT = evidence_tryptic_pearson_RT.mask(\n",
    "    np.arange(len(evidence_tryptic_pearson_RT))[:,None] <= np.arange(len(evidence_tryptic_pearson_RT)))\n",
    "evidence_tryptic_pearson_CCS = evidence_tryptic_pearson_CCS.mask(\n",
    "    np.arange(len(evidence_tryptic_pearson_CCS))[:,None] >= np.arange(len(evidence_tryptic_pearson_CCS)))"
   ]
  },
  {
   "cell_type": "code",
   "execution_count": 26,
   "metadata": {},
   "outputs": [
    {
     "data": {
      "image/png": "[encoded data removed]",
      "text/plain": [
       "<Figure size 648x432 with 3 Axes>"
      ]
     },
     "metadata": {
      "needs_background": "light"
     },
     "output_type": "display_data"
    }
   ],
   "source": [
    "fig = plt.figure(figsize=(9,6))\n",
    "ax1 = fig.add_subplot(111)\n",
    "\n",
    "plt.pcolor(evidence_tryptic_pearson_RT, cmap='YlOrRd', vmin=0.95, vmax=1)\n",
    "\n",
    "ax2 = ax1.twiny()\n",
    "X2tick_location= ax1.xaxis.get_ticklocs()\n",
    "ax2.set_xticks(X2tick_location)\n",
    "ax2.set_xticklabels(X2tick_location)\n",
    "\n",
    "plt.colorbar()\n",
    "\n",
    "plt.savefig(\"figures/Figure_2_a_rt.pdf\");\n",
    "plt.show()"
   ]
  },
  {
   "cell_type": "code",
   "execution_count": 27,
   "metadata": {},
   "outputs": [
    {
     "data": {
      "image/png": "[encoded data removed]",
      "text/plain": [
       "<Figure size 648x432 with 3 Axes>"
      ]
     },
     "metadata": {
      "needs_background": "light"
     },
     "output_type": "display_data"
    }
   ],
   "source": [
    "fig = plt.figure(figsize=(9,6))\n",
    "ax1 = fig.add_subplot(111)\n",
    "\n",
    "plt.pcolor(evidence_tryptic_pearson_CCS, cmap='YlOrRd', vmin=0.95, vmax=1)\n",
    "\n",
    "ax3 = ax1.twiny()\n",
    "X2tick_location= ax1.yaxis.get_ticklocs()\n",
    "ax3.set_yticks(X2tick_location)\n",
    "ax3.set_yticklabels(X2tick_location)\n",
    "\n",
    "plt.colorbar()\n",
    "\n",
    "plt.savefig(\"figures/Figure_2_a_ccs.pdf\");"
   ]
  },
  {
   "cell_type": "markdown",
   "metadata": {},
   "source": [
    "<b>Figure 2. Precision, accuracy and utility of experimental peptide CCS values.</b> a, Color-coded pairwise Pearson correlation values of peptide retention time (upper triangular matrix) and CCS values (lower triangular matrix) between 168 LC-MS/MS runs of fractionated tryptic digests. Experimental meta-data are indicated below the x-axis. White (n/a) indicates less than 5 data points for pairwise comparison."
   ]
  },
  {
   "cell_type": "code",
   "execution_count": 28,
   "metadata": {},
   "outputs": [
    {
     "name": "stdout",
     "output_type": "stream",
     "text": [
      "0.11255170901616414\n"
     ]
    }
   ],
   "source": [
    "start = time.time()\n",
    "evidence_tryptic_distance_CCS = pd.DataFrame(mean_dist_pairwise(np.array(evidence_pivot_tryptic_CCS), \n",
    "                                                                evidence_pivot_tryptic_CCS.shape[1]))\n",
    "end = time.time()\n",
    "\n",
    "print((end - start)/60)"
   ]
  },
  {
   "cell_type": "code",
   "execution_count": 29,
   "metadata": {},
   "outputs": [],
   "source": [
    "# make triangular matrix\n",
    "evidence_tryptic_distance_CCS = evidence_tryptic_distance_CCS.mask(\n",
    "    np.arange(len(evidence_tryptic_distance_CCS))[:,None] <= np.arange(len(evidence_tryptic_distance_CCS)))"
   ]
  },
  {
   "cell_type": "code",
   "execution_count": 30,
   "metadata": {},
   "outputs": [
    {
     "data": {
      "image/png": "[encoded data removed]",
      "text/plain": [
       "<Figure size 648x432 with 2 Axes>"
      ]
     },
     "metadata": {
      "needs_background": "light"
     },
     "output_type": "display_data"
    }
   ],
   "source": [
    "plt.figure(figsize=(9,6))\n",
    "plt.title('Pairwise mean distance ($\\AA^2$)')\n",
    "plt.pcolor(evidence_tryptic_distance_CCS, cmap='magma')\n",
    "plt.colorbar()\n",
    "\n",
    "plt.show()"
   ]
  },
  {
   "cell_type": "code",
   "execution_count": 31,
   "metadata": {},
   "outputs": [
    {
     "data": {
      "image/png": "[encoded data removed]",
      "text/plain": [
       "<Figure size 432x288 with 1 Axes>"
      ]
     },
     "metadata": {
      "needs_background": "light"
     },
     "output_type": "display_data"
    }
   ],
   "source": [
    "evidence_tryptic_distance_CCS.unstack().abs().hist()\n",
    "plt.ylabel('Count')\n",
    "plt.xlabel('Abs. pairwise mean distance ($\\AA^2$)');"
   ]
  },
  {
   "cell_type": "code",
   "execution_count": 32,
   "metadata": {},
   "outputs": [
    {
     "name": "stdout",
     "output_type": "stream",
     "text": [
      "Max. abs. distance: 39.0 Å^2\n",
      "Median abs. distance: 9.4 Å^2\n"
     ]
    }
   ],
   "source": [
    "print(\"Max. abs. distance: {:.1f} Å^2\".format(evidence_tryptic_distance_CCS.unstack().abs().max()))\n",
    "print(\"Median abs. distance: {:.1f} Å^2\".format(evidence_tryptic_distance_CCS.unstack().abs().median()))"
   ]
  },
  {
   "cell_type": "markdown",
   "metadata": {},
   "source": [
    "#### Import aligned dataset"
   ]
  },
  {
   "cell_type": "code",
   "execution_count": 33,
   "metadata": {},
   "outputs": [
    {
     "data": {
      "text/html": [
       "<div>\n",
       "<style scoped>\n",
       "    .dataframe tbody tr th:only-of-type {\n",
       "        vertical-align: middle;\n",
       "    }\n",
       "\n",
       "    .dataframe tbody tr th {\n",
       "        vertical-align: top;\n",
       "    }\n",
       "\n",
       "    .dataframe thead th {\n",
       "        text-align: right;\n",
       "    }\n",
       "</style>\n",
       "<table border=\"1\" class=\"dataframe\">\n",
       "  <thead>\n",
       "    <tr style=\"text-align: right;\">\n",
       "      <th></th>\n",
       "      <th>20180631_TIMS2_12-2_AnBr_SA_200ng_HeLa_50cm_100ms_11CT_120min_Fraction_10_B8_01_2600</th>\n",
       "      <th>20180631_TIMS2_12-2_AnBr_SA_200ng_HeLa_50cm_100ms_11CT_120min_Fraction_11_C8_01_2601</th>\n",
       "      <th>20180631_TIMS2_12-2_AnBr_SA_200ng_HeLa_50cm_100ms_11CT_120min_Fraction_12_D8_01_2602</th>\n",
       "      <th>20180631_TIMS2_12-2_AnBr_SA_200ng_HeLa_50cm_100ms_11CT_120min_Fraction_13_E8_01_2603</th>\n",
       "      <th>20180631_TIMS2_12-2_AnBr_SA_200ng_HeLa_50cm_100ms_11CT_120min_Fraction_14_F8_01_2604</th>\n",
       "      <th>20180631_TIMS2_12-2_AnBr_SA_200ng_HeLa_50cm_100ms_11CT_120min_Fraction_15_G8_01_2605</th>\n",
       "      <th>20180631_TIMS2_12-2_AnBr_SA_200ng_HeLa_50cm_100ms_11CT_120min_Fraction_16_H8_01_2606</th>\n",
       "      <th>20180631_TIMS2_12-2_AnBr_SA_200ng_HeLa_50cm_100ms_11CT_120min_Fraction_17_A9_01_2607</th>\n",
       "      <th>20180631_TIMS2_12-2_AnBr_SA_200ng_HeLa_50cm_100ms_11CT_120min_Fraction_18_B9_01_2608</th>\n",
       "      <th>20180631_TIMS2_12-2_AnBr_SA_200ng_HeLa_50cm_100ms_11CT_120min_Fraction_19_C9_01_2609</th>\n",
       "      <th>...</th>\n",
       "      <th>20190504_TIMS1_FlMe_SA_HeLa_frac15_G11_1_107</th>\n",
       "      <th>20190504_TIMS1_FlMe_SA_HeLa_frac16_H11_1_108</th>\n",
       "      <th>20190504_TIMS1_FlMe_SA_HeLa_frac17_A12_1_109</th>\n",
       "      <th>20190504_TIMS1_FlMe_SA_HeLa_frac18_B12_1_110</th>\n",
       "      <th>20190504_TIMS1_FlMe_SA_HeLa_frac19_C12_1_111</th>\n",
       "      <th>20190504_TIMS1_FlMe_SA_HeLa_frac20_D12_1_112</th>\n",
       "      <th>20190504_TIMS1_FlMe_SA_HeLa_frac21_E12_1_113</th>\n",
       "      <th>20190504_TIMS1_FlMe_SA_HeLa_frac22_F12_1_114</th>\n",
       "      <th>20190504_TIMS1_FlMe_SA_HeLa_frac23_G12_1_115</th>\n",
       "      <th>20190504_TIMS1_FlMe_SA_HeLa_frac24_H12_1_116</th>\n",
       "    </tr>\n",
       "  </thead>\n",
       "  <tbody>\n",
       "    <tr>\n",
       "      <th>0</th>\n",
       "      <td>NaN</td>\n",
       "      <td>NaN</td>\n",
       "      <td>NaN</td>\n",
       "      <td>NaN</td>\n",
       "      <td>NaN</td>\n",
       "      <td>NaN</td>\n",
       "      <td>410.5967</td>\n",
       "      <td>NaN</td>\n",
       "      <td>NaN</td>\n",
       "      <td>NaN</td>\n",
       "      <td>...</td>\n",
       "      <td>NaN</td>\n",
       "      <td>405.02527</td>\n",
       "      <td>NaN</td>\n",
       "      <td>NaN</td>\n",
       "      <td>NaN</td>\n",
       "      <td>NaN</td>\n",
       "      <td>NaN</td>\n",
       "      <td>NaN</td>\n",
       "      <td>NaN</td>\n",
       "      <td>NaN</td>\n",
       "    </tr>\n",
       "    <tr>\n",
       "      <th>1</th>\n",
       "      <td>NaN</td>\n",
       "      <td>NaN</td>\n",
       "      <td>NaN</td>\n",
       "      <td>NaN</td>\n",
       "      <td>NaN</td>\n",
       "      <td>NaN</td>\n",
       "      <td>NaN</td>\n",
       "      <td>NaN</td>\n",
       "      <td>NaN</td>\n",
       "      <td>NaN</td>\n",
       "      <td>...</td>\n",
       "      <td>NaN</td>\n",
       "      <td>NaN</td>\n",
       "      <td>NaN</td>\n",
       "      <td>NaN</td>\n",
       "      <td>NaN</td>\n",
       "      <td>NaN</td>\n",
       "      <td>NaN</td>\n",
       "      <td>NaN</td>\n",
       "      <td>NaN</td>\n",
       "      <td>NaN</td>\n",
       "    </tr>\n",
       "    <tr>\n",
       "      <th>2</th>\n",
       "      <td>NaN</td>\n",
       "      <td>NaN</td>\n",
       "      <td>NaN</td>\n",
       "      <td>NaN</td>\n",
       "      <td>NaN</td>\n",
       "      <td>NaN</td>\n",
       "      <td>NaN</td>\n",
       "      <td>NaN</td>\n",
       "      <td>NaN</td>\n",
       "      <td>NaN</td>\n",
       "      <td>...</td>\n",
       "      <td>NaN</td>\n",
       "      <td>NaN</td>\n",
       "      <td>NaN</td>\n",
       "      <td>NaN</td>\n",
       "      <td>NaN</td>\n",
       "      <td>NaN</td>\n",
       "      <td>NaN</td>\n",
       "      <td>NaN</td>\n",
       "      <td>NaN</td>\n",
       "      <td>NaN</td>\n",
       "    </tr>\n",
       "    <tr>\n",
       "      <th>3</th>\n",
       "      <td>NaN</td>\n",
       "      <td>NaN</td>\n",
       "      <td>NaN</td>\n",
       "      <td>NaN</td>\n",
       "      <td>NaN</td>\n",
       "      <td>NaN</td>\n",
       "      <td>NaN</td>\n",
       "      <td>NaN</td>\n",
       "      <td>NaN</td>\n",
       "      <td>NaN</td>\n",
       "      <td>...</td>\n",
       "      <td>574.0615</td>\n",
       "      <td>NaN</td>\n",
       "      <td>NaN</td>\n",
       "      <td>NaN</td>\n",
       "      <td>NaN</td>\n",
       "      <td>NaN</td>\n",
       "      <td>NaN</td>\n",
       "      <td>575.7869</td>\n",
       "      <td>576.41315</td>\n",
       "      <td>NaN</td>\n",
       "    </tr>\n",
       "    <tr>\n",
       "      <th>4</th>\n",
       "      <td>NaN</td>\n",
       "      <td>NaN</td>\n",
       "      <td>NaN</td>\n",
       "      <td>NaN</td>\n",
       "      <td>NaN</td>\n",
       "      <td>NaN</td>\n",
       "      <td>NaN</td>\n",
       "      <td>NaN</td>\n",
       "      <td>NaN</td>\n",
       "      <td>NaN</td>\n",
       "      <td>...</td>\n",
       "      <td>NaN</td>\n",
       "      <td>NaN</td>\n",
       "      <td>NaN</td>\n",
       "      <td>NaN</td>\n",
       "      <td>NaN</td>\n",
       "      <td>NaN</td>\n",
       "      <td>NaN</td>\n",
       "      <td>621.7292</td>\n",
       "      <td>622.35580</td>\n",
       "      <td>NaN</td>\n",
       "    </tr>\n",
       "  </tbody>\n",
       "</table>\n",
       "<p>5 rows × 747 columns</p>\n",
       "</div>"
      ],
      "text/plain": [
       "   20180631_TIMS2_12-2_AnBr_SA_200ng_HeLa_50cm_100ms_11CT_120min_Fraction_10_B8_01_2600  \\\n",
       "0                                                NaN                                      \n",
       "1                                                NaN                                      \n",
       "2                                                NaN                                      \n",
       "3                                                NaN                                      \n",
       "4                                                NaN                                      \n",
       "\n",
       "   20180631_TIMS2_12-2_AnBr_SA_200ng_HeLa_50cm_100ms_11CT_120min_Fraction_11_C8_01_2601  \\\n",
       "0                                                NaN                                      \n",
       "1                                                NaN                                      \n",
       "2                                                NaN                                      \n",
       "3                                                NaN                                      \n",
       "4                                                NaN                                      \n",
       "\n",
       "   20180631_TIMS2_12-2_AnBr_SA_200ng_HeLa_50cm_100ms_11CT_120min_Fraction_12_D8_01_2602  \\\n",
       "0                                                NaN                                      \n",
       "1                                                NaN                                      \n",
       "2                                                NaN                                      \n",
       "3                                                NaN                                      \n",
       "4                                                NaN                                      \n",
       "\n",
       "   20180631_TIMS2_12-2_AnBr_SA_200ng_HeLa_50cm_100ms_11CT_120min_Fraction_13_E8_01_2603  \\\n",
       "0                                                NaN                                      \n",
       "1                                                NaN                                      \n",
       "2                                                NaN                                      \n",
       "3                                                NaN                                      \n",
       "4                                                NaN                                      \n",
       "\n",
       "   20180631_TIMS2_12-2_AnBr_SA_200ng_HeLa_50cm_100ms_11CT_120min_Fraction_14_F8_01_2604  \\\n",
       "0                                                NaN                                      \n",
       "1                                                NaN                                      \n",
       "2                                                NaN                                      \n",
       "3                                                NaN                                      \n",
       "4                                                NaN                                      \n",
       "\n",
       "   20180631_TIMS2_12-2_AnBr_SA_200ng_HeLa_50cm_100ms_11CT_120min_Fraction_15_G8_01_2605  \\\n",
       "0                                                NaN                                      \n",
       "1                                                NaN                                      \n",
       "2                                                NaN                                      \n",
       "3                                                NaN                                      \n",
       "4                                                NaN                                      \n",
       "\n",
       "   20180631_TIMS2_12-2_AnBr_SA_200ng_HeLa_50cm_100ms_11CT_120min_Fraction_16_H8_01_2606  \\\n",
       "0                                           410.5967                                      \n",
       "1                                                NaN                                      \n",
       "2                                                NaN                                      \n",
       "3                                                NaN                                      \n",
       "4                                                NaN                                      \n",
       "\n",
       "   20180631_TIMS2_12-2_AnBr_SA_200ng_HeLa_50cm_100ms_11CT_120min_Fraction_17_A9_01_2607  \\\n",
       "0                                                NaN                                      \n",
       "1                                                NaN                                      \n",
       "2                                                NaN                                      \n",
       "3                                                NaN                                      \n",
       "4                                                NaN                                      \n",
       "\n",
       "   20180631_TIMS2_12-2_AnBr_SA_200ng_HeLa_50cm_100ms_11CT_120min_Fraction_18_B9_01_2608  \\\n",
       "0                                                NaN                                      \n",
       "1                                                NaN                                      \n",
       "2                                                NaN                                      \n",
       "3                                                NaN                                      \n",
       "4                                                NaN                                      \n",
       "\n",
       "   20180631_TIMS2_12-2_AnBr_SA_200ng_HeLa_50cm_100ms_11CT_120min_Fraction_19_C9_01_2609  \\\n",
       "0                                                NaN                                      \n",
       "1                                                NaN                                      \n",
       "2                                                NaN                                      \n",
       "3                                                NaN                                      \n",
       "4                                                NaN                                      \n",
       "\n",
       "   ...  20190504_TIMS1_FlMe_SA_HeLa_frac15_G11_1_107  \\\n",
       "0  ...                                           NaN   \n",
       "1  ...                                           NaN   \n",
       "2  ...                                           NaN   \n",
       "3  ...                                      574.0615   \n",
       "4  ...                                           NaN   \n",
       "\n",
       "   20190504_TIMS1_FlMe_SA_HeLa_frac16_H11_1_108  \\\n",
       "0                                     405.02527   \n",
       "1                                           NaN   \n",
       "2                                           NaN   \n",
       "3                                           NaN   \n",
       "4                                           NaN   \n",
       "\n",
       "   20190504_TIMS1_FlMe_SA_HeLa_frac17_A12_1_109  \\\n",
       "0                                           NaN   \n",
       "1                                           NaN   \n",
       "2                                           NaN   \n",
       "3                                           NaN   \n",
       "4                                           NaN   \n",
       "\n",
       "   20190504_TIMS1_FlMe_SA_HeLa_frac18_B12_1_110  \\\n",
       "0                                           NaN   \n",
       "1                                           NaN   \n",
       "2                                           NaN   \n",
       "3                                           NaN   \n",
       "4                                           NaN   \n",
       "\n",
       "   20190504_TIMS1_FlMe_SA_HeLa_frac19_C12_1_111  \\\n",
       "0                                           NaN   \n",
       "1                                           NaN   \n",
       "2                                           NaN   \n",
       "3                                           NaN   \n",
       "4                                           NaN   \n",
       "\n",
       "   20190504_TIMS1_FlMe_SA_HeLa_frac20_D12_1_112  \\\n",
       "0                                           NaN   \n",
       "1                                           NaN   \n",
       "2                                           NaN   \n",
       "3                                           NaN   \n",
       "4                                           NaN   \n",
       "\n",
       "   20190504_TIMS1_FlMe_SA_HeLa_frac21_E12_1_113  \\\n",
       "0                                           NaN   \n",
       "1                                           NaN   \n",
       "2                                           NaN   \n",
       "3                                           NaN   \n",
       "4                                           NaN   \n",
       "\n",
       "   20190504_TIMS1_FlMe_SA_HeLa_frac22_F12_1_114  \\\n",
       "0                                           NaN   \n",
       "1                                           NaN   \n",
       "2                                           NaN   \n",
       "3                                      575.7869   \n",
       "4                                      621.7292   \n",
       "\n",
       "   20190504_TIMS1_FlMe_SA_HeLa_frac23_G12_1_115  \\\n",
       "0                                           NaN   \n",
       "1                                           NaN   \n",
       "2                                           NaN   \n",
       "3                                     576.41315   \n",
       "4                                     622.35580   \n",
       "\n",
       "   20190504_TIMS1_FlMe_SA_HeLa_frac24_H12_1_116  \n",
       "0                                           NaN  \n",
       "1                                           NaN  \n",
       "2                                           NaN  \n",
       "3                                           NaN  \n",
       "4                                           NaN  \n",
       "\n",
       "[5 rows x 747 columns]"
      ]
     },
     "execution_count": 33,
     "metadata": {},
     "output_type": "execute_result"
    }
   ],
   "source": [
    "evidence_pivot_aligned = pd.read_csv('output/evidence_pivot_aligned.csv')\n",
    "evidence_pivot_aligned.head()"
   ]
  },
  {
   "cell_type": "code",
   "execution_count": 34,
   "metadata": {},
   "outputs": [
    {
     "data": {
      "text/plain": [
       "(747, 360)"
      ]
     },
     "execution_count": 34,
     "metadata": {},
     "output_type": "execute_result"
    }
   ],
   "source": [
    "# Exclude Proteome Tools data\n",
    "proteometools = set(evidence_all.loc[evidence_all['Experiment'].isin(\n",
    "    ['Proteotypic', 'SRMATLAS', 'MissingGeneSet'])]['Raw file'])\n",
    "\n",
    "evidence_pivot_aligned_endo = evidence_pivot_aligned.drop(proteometools, axis = 1)\n",
    "\n",
    "len(evidence_pivot_aligned.columns), len(evidence_pivot_aligned_endo.columns)"
   ]
  },
  {
   "cell_type": "code",
   "execution_count": 38,
   "metadata": {},
   "outputs": [
    {
     "data": {
      "image/png": "[encoded data removed]",
      "text/plain": [
       "<Figure size 288x216 with 1 Axes>"
      ]
     },
     "metadata": {
      "needs_background": "light"
     },
     "output_type": "display_data"
    }
   ],
   "source": [
    "runs = ['20190504_TIMS1_FlMe_SA_HeLa_frac03_C10_1_95', \n",
    "        '20190119_TIMS2_AnBr_SA_200ng_Drosophila_Trypsin_IRT_Fraction03_C7_01_4020']\n",
    "\n",
    "x = evidence_pivot_aligned[runs[0]]\n",
    "y = evidence_pivot_aligned[runs[1]]\n",
    "\n",
    "mask = ~np.logical_or(np.isnan(x), np.isnan(y))  \n",
    "pcorr = stats.pearsonr(x[mask], y[mask])[0]\n",
    "\n",
    "fig = plt.figure(figsize=(4,3))\n",
    "ax = plt.axes()\n",
    "\n",
    "plt.scatter(x, y, s = 30, alpha = 1)\n",
    "plt.xlabel(runs[0])\n",
    "plt.ylabel(runs[1])\n",
    "\n",
    "ax.spines['right'].set_visible(False)\n",
    "ax.spines['top'].set_visible(False)\n",
    "\n",
    "plt.plot(np.arange(300,700,1), np.arange(300,700,1), color = 'black')\n",
    "\n",
    "plt.savefig(\"figures/Figure_2_b.pdf\");\n",
    "plt.show()"
   ]
  },
  {
   "cell_type": "code",
   "execution_count": 39,
   "metadata": {},
   "outputs": [
    {
     "name": "stdout",
     "output_type": "stream",
     "text": [
      "n = 68\n",
      "Pearson correlation: 0.998\n",
      "Median delta = 0.19%\n",
      "Median absolute delta = 0.71%\n"
     ]
    }
   ],
   "source": [
    "print(\"n = {0}\".format(mask.sum()))\n",
    "print(\"Pearson correlation: {:1.3f}\".format(pcorr))\n",
    "print(\"Median delta = {:1.2f}%\".format(np.nanmedian((x-y)/y*100)))\n",
    "print(\"Median absolute delta = {:1.2f}%\".format(np.nanmedian(np.abs((x-y)/y*100))))"
   ]
  },
  {
   "cell_type": "code",
   "execution_count": 40,
   "metadata": {},
   "outputs": [],
   "source": [
    "# Calculate coefficients of variation\n",
    "evidence_pivot_aligned_endo_CV = evidence_pivot_aligned_endo.std(axis = 1, skipna = True) / \\\n",
    "evidence_pivot_aligned_endo.mean(axis = 1, skipna = True) * 100"
   ]
  },
  {
   "cell_type": "code",
   "execution_count": 41,
   "metadata": {},
   "outputs": [
    {
     "name": "stdout",
     "output_type": "stream",
     "text": [
      "Median relative standard deviation:       0.43%\n",
      "Unique sequences*charge with >1 measurements: 347885\n"
     ]
    }
   ],
   "source": [
    "print(\"Median relative standard deviation: {:10.2f}%\".format(evidence_pivot_aligned_endo_CV.dropna().median()))\n",
    "print(\"Unique sequences*charge with >1 measurements: {}\".format(len(evidence_pivot_aligned_endo_CV.dropna())))"
   ]
  },
  {
   "cell_type": "code",
   "execution_count": 42,
   "metadata": {},
   "outputs": [
    {
     "data": {
      "image/png": "[encoded data removed]",
      "text/plain": [
       "<Figure size 288x216 with 1 Axes>"
      ]
     },
     "metadata": {
      "needs_background": "light"
     },
     "output_type": "display_data"
    }
   ],
   "source": [
    "fig = plt.figure(figsize=(4,3))\n",
    "\n",
    "ax = plt.axes()\n",
    "\n",
    "plt.hist(x = evidence_pivot_aligned_endo_CV.dropna(), bins = 100, range = (0,5))\n",
    "\n",
    "plt.xlabel('Coefficient of variation (%)')\n",
    "plt.ylabel('Count')\n",
    "\n",
    "ax.spines['right'].set_visible(False)\n",
    "ax.spines['top'].set_visible(False)\n",
    "\n",
    "plt.savefig(\"figures/Figure_2_c.pdf\");\n",
    "plt.show()"
   ]
  },
  {
   "cell_type": "code",
   "execution_count": 43,
   "metadata": {},
   "outputs": [],
   "source": [
    "def kdtree_worker(mass_tolerance, ccs_tolerance, masses, crossections):\n",
    "    found_points = []\n",
    "    results = []\n",
    "    tolerance = 0.1\n",
    "\n",
    "    points = np.array([np.log(masses)/mass_tolerance*1e6*tolerance, np.log(crossections)/ccs_tolerance*1e2*tolerance]).T\n",
    "\n",
    "    point_tree = spatial.cKDTree(points)\n",
    "\n",
    "    for i, point in enumerate(points):\n",
    "\n",
    "        n_found = point_tree.query_ball_point(point, tolerance, p=np.float('inf'))\n",
    "\n",
    "        results.append(len(n_found)-1)\n",
    "\n",
    "    ratio_kd = np.sum(np.array(results)>0)/len(results)\n",
    "    \n",
    "    return ratio_kd"
   ]
  },
  {
   "cell_type": "code",
   "execution_count": 44,
   "metadata": {},
   "outputs": [],
   "source": [
    "def kdtree_worker_count(mass_tolerance, ccs_tolerance, masses, crossections):\n",
    "    found_points = []\n",
    "    results = []\n",
    "    tolerance = 0.1\n",
    "\n",
    "    points = np.array([np.log(masses)/mass_tolerance*1e6*tolerance, np.log(crossections)/ccs_tolerance*1e2*tolerance]).T\n",
    "\n",
    "    point_tree = spatial.cKDTree(points)\n",
    "\n",
    "    for i, point in enumerate(points):\n",
    "\n",
    "        n_found = point_tree.query_ball_point(point, tolerance, p=np.float('inf'))\n",
    "\n",
    "        results.append(len(n_found))\n",
    "    \n",
    "    return results"
   ]
  },
  {
   "cell_type": "code",
   "execution_count": 45,
   "metadata": {},
   "outputs": [],
   "source": [
    "cmap = plt.get_cmap(\"RdYlBu\")\n",
    "colors = cmap(np.linspace(0, 1, num=20))"
   ]
  },
  {
   "cell_type": "code",
   "execution_count": 46,
   "metadata": {},
   "outputs": [
    {
     "data": {
      "text/html": [
       "<div>\n",
       "<style scoped>\n",
       "    .dataframe tbody tr th:only-of-type {\n",
       "        vertical-align: middle;\n",
       "    }\n",
       "\n",
       "    .dataframe tbody tr th {\n",
       "        vertical-align: top;\n",
       "    }\n",
       "\n",
       "    .dataframe thead th {\n",
       "        text-align: right;\n",
       "    }\n",
       "</style>\n",
       "<table border=\"1\" class=\"dataframe\">\n",
       "  <thead>\n",
       "    <tr style=\"text-align: right;\">\n",
       "      <th></th>\n",
       "      <th>Modified sequence</th>\n",
       "      <th>Sequence</th>\n",
       "      <th>Charge</th>\n",
       "      <th>Mass</th>\n",
       "      <th>m/z</th>\n",
       "      <th>Experiment</th>\n",
       "      <th>id</th>\n",
       "      <th>Intensity</th>\n",
       "      <th>Score</th>\n",
       "      <th>Length</th>\n",
       "      <th>Retention time</th>\n",
       "      <th>CCS</th>\n",
       "    </tr>\n",
       "  </thead>\n",
       "  <tbody>\n",
       "    <tr>\n",
       "      <th>0</th>\n",
       "      <td>_(ac)AAAAAAAAAAGAAGGR_</td>\n",
       "      <td>AAAAAAAAAAGAAGGR</td>\n",
       "      <td>2</td>\n",
       "      <td>1239.63200</td>\n",
       "      <td>620.823275</td>\n",
       "      <td>HeLa_Trp_2</td>\n",
       "      <td>9</td>\n",
       "      <td>149810.0</td>\n",
       "      <td>162.800</td>\n",
       "      <td>16</td>\n",
       "      <td>70.140</td>\n",
       "      <td>409.09244</td>\n",
       "    </tr>\n",
       "    <tr>\n",
       "      <th>1</th>\n",
       "      <td>_(ac)AAAAAAAGAAGSAAPAAAAGAPGSGGAPSGSQGVLIGDR_</td>\n",
       "      <td>AAAAAAAGAAGSAAPAAAAGAPGSGGAPSGSQGVLIGDR</td>\n",
       "      <td>3</td>\n",
       "      <td>3144.55482</td>\n",
       "      <td>1049.192220</td>\n",
       "      <td>HeLa_Trypsin_1</td>\n",
       "      <td>124</td>\n",
       "      <td>194000.0</td>\n",
       "      <td>71.438</td>\n",
       "      <td>39</td>\n",
       "      <td>3947.700</td>\n",
       "      <td>772.09800</td>\n",
       "    </tr>\n",
       "    <tr>\n",
       "      <th>2</th>\n",
       "      <td>_(ac)AAAAAAAGDSDSWDADAFSVEDPVRK_</td>\n",
       "      <td>AAAAAAAGDSDSWDADAFSVEDPVRK</td>\n",
       "      <td>2</td>\n",
       "      <td>2634.18340</td>\n",
       "      <td>1318.098980</td>\n",
       "      <td>HeLa_Trp_2</td>\n",
       "      <td>26</td>\n",
       "      <td>6416400.0</td>\n",
       "      <td>111.750</td>\n",
       "      <td>26</td>\n",
       "      <td>94.079</td>\n",
       "      <td>573.21326</td>\n",
       "    </tr>\n",
       "    <tr>\n",
       "      <th>3</th>\n",
       "      <td>_(ac)AAAAAAAGDSDSWDADAFSVEDPVRK_</td>\n",
       "      <td>AAAAAAAGDSDSWDADAFSVEDPVRK</td>\n",
       "      <td>3</td>\n",
       "      <td>2634.18340</td>\n",
       "      <td>879.068411</td>\n",
       "      <td>HeLa_Trp_2</td>\n",
       "      <td>30</td>\n",
       "      <td>5400600.0</td>\n",
       "      <td>42.218</td>\n",
       "      <td>26</td>\n",
       "      <td>94.841</td>\n",
       "      <td>635.00060</td>\n",
       "    </tr>\n",
       "    <tr>\n",
       "      <th>4</th>\n",
       "      <td>_(ac)AAAAAAAGDSDSWDADAFSVEDPVR_</td>\n",
       "      <td>AAAAAAAGDSDSWDADAFSVEDPVR</td>\n",
       "      <td>2</td>\n",
       "      <td>2506.08844</td>\n",
       "      <td>1254.051500</td>\n",
       "      <td>HeLa_Trp_2</td>\n",
       "      <td>23</td>\n",
       "      <td>245720.0</td>\n",
       "      <td>135.890</td>\n",
       "      <td>25</td>\n",
       "      <td>104.620</td>\n",
       "      <td>547.55910</td>\n",
       "    </tr>\n",
       "  </tbody>\n",
       "</table>\n",
       "</div>"
      ],
      "text/plain": [
       "                               Modified sequence  \\\n",
       "0                         _(ac)AAAAAAAAAAGAAGGR_   \n",
       "1  _(ac)AAAAAAAGAAGSAAPAAAAGAPGSGGAPSGSQGVLIGDR_   \n",
       "2               _(ac)AAAAAAAGDSDSWDADAFSVEDPVRK_   \n",
       "3               _(ac)AAAAAAAGDSDSWDADAFSVEDPVRK_   \n",
       "4                _(ac)AAAAAAAGDSDSWDADAFSVEDPVR_   \n",
       "\n",
       "                                  Sequence  Charge        Mass          m/z  \\\n",
       "0                         AAAAAAAAAAGAAGGR       2  1239.63200   620.823275   \n",
       "1  AAAAAAAGAAGSAAPAAAAGAPGSGGAPSGSQGVLIGDR       3  3144.55482  1049.192220   \n",
       "2               AAAAAAAGDSDSWDADAFSVEDPVRK       2  2634.18340  1318.098980   \n",
       "3               AAAAAAAGDSDSWDADAFSVEDPVRK       3  2634.18340   879.068411   \n",
       "4                AAAAAAAGDSDSWDADAFSVEDPVR       2  2506.08844  1254.051500   \n",
       "\n",
       "       Experiment   id  Intensity    Score  Length  Retention time        CCS  \n",
       "0      HeLa_Trp_2    9   149810.0  162.800      16          70.140  409.09244  \n",
       "1  HeLa_Trypsin_1  124   194000.0   71.438      39        3947.700  772.09800  \n",
       "2      HeLa_Trp_2   26  6416400.0  111.750      26          94.079  573.21326  \n",
       "3      HeLa_Trp_2   30  5400600.0   42.218      26          94.841  635.00060  \n",
       "4      HeLa_Trp_2   23   245720.0  135.890      25         104.620  547.55910  "
      ]
     },
     "execution_count": 46,
     "metadata": {},
     "output_type": "execute_result"
    }
   ],
   "source": [
    "evidence_aligned = pd.read_csv('output/evidence_aligned.csv')\n",
    "evidence_aligned.head()"
   ]
  },
  {
   "cell_type": "code",
   "execution_count": 47,
   "metadata": {},
   "outputs": [
    {
     "data": {
      "text/plain": [
       "(559979, 452592)"
      ]
     },
     "execution_count": 47,
     "metadata": {},
     "output_type": "execute_result"
    }
   ],
   "source": [
    "# Select peptides with N-terminal R or K\n",
    "\n",
    "evidence_aligned['lastAA'] = evidence_aligned['Sequence'].str[-1:]\n",
    "evidence_tryptic = evidence_aligned.loc[(evidence_aligned['lastAA'] == 'R') | (evidence_aligned['lastAA'] == 'K')]\n",
    "\n",
    "len(evidence_aligned), len(evidence_tryptic)"
   ]
  },
  {
   "cell_type": "code",
   "execution_count": 48,
   "metadata": {},
   "outputs": [
    {
     "data": {
      "text/plain": [
       "(324246, 112015)"
      ]
     },
     "execution_count": 48,
     "metadata": {},
     "output_type": "execute_result"
    }
   ],
   "source": [
    "# Split by charge state\n",
    "\n",
    "evidence_tryptic_cs2 = evidence_tryptic.loc[evidence_tryptic['Charge'] == 2]\n",
    "evidence_tryptic_cs3 = evidence_tryptic.loc[evidence_tryptic['Charge'] == 3]\n",
    "                                            \n",
    "len(evidence_tryptic_cs2), len(evidence_tryptic_cs3)                                            "
   ]
  },
  {
   "cell_type": "code",
   "execution_count": 49,
   "metadata": {},
   "outputs": [
    {
     "data": {
      "text/plain": [
       "{'CElegans_Tryp',\n",
       " 'Drosophila_LysC',\n",
       " 'Drosophila_LysN',\n",
       " 'Drosophila_Trp',\n",
       " 'Ecoli_LysC',\n",
       " 'Ecoli_LysN',\n",
       " 'Ecoli_trypsin',\n",
       " 'HeLa_LysC',\n",
       " 'HeLa_LysN',\n",
       " 'HeLa_Trp_2',\n",
       " 'HeLa_Trypsin_1',\n",
       " 'Yeast_LysC',\n",
       " 'Yeast_LysN',\n",
       " 'Yeast_Trypsin'}"
      ]
     },
     "execution_count": 49,
     "metadata": {},
     "output_type": "execute_result"
    }
   ],
   "source": [
    "set(evidence_aligned['Experiment'])"
   ]
  },
  {
   "cell_type": "code",
   "execution_count": 50,
   "metadata": {},
   "outputs": [],
   "source": [
    "# Calculate interference ratios for charge state 2\n",
    "\n",
    "CCS_tolerances =  [0.1, 0.2, 0.3, 0.5, 0.7, 1.0, 1.5, 2.0, 3, 5, 10, 20, 50]\n",
    "mass_tolerance = 1.5\n",
    "    \n",
    "evaluation_cs2 = []\n",
    "for ccs_tolerance in CCS_tolerances:     \n",
    "    ratio = kdtree_worker(mass_tolerance, ccs_tolerance, evidence_tryptic_cs2['m/z'], evidence_tryptic_cs2['CCS'])\n",
    "    evaluation_cs2.append((mass_tolerance, ccs_tolerance, ratio))"
   ]
  },
  {
   "cell_type": "code",
   "execution_count": 51,
   "metadata": {},
   "outputs": [
    {
     "data": {
      "text/html": [
       "<div>\n",
       "<style scoped>\n",
       "    .dataframe tbody tr th:only-of-type {\n",
       "        vertical-align: middle;\n",
       "    }\n",
       "\n",
       "    .dataframe tbody tr th {\n",
       "        vertical-align: top;\n",
       "    }\n",
       "\n",
       "    .dataframe thead th {\n",
       "        text-align: right;\n",
       "    }\n",
       "</style>\n",
       "<table border=\"1\" class=\"dataframe\">\n",
       "  <thead>\n",
       "    <tr style=\"text-align: right;\">\n",
       "      <th></th>\n",
       "      <th>Mass Tolerance</th>\n",
       "      <th>CCS Tolerance</th>\n",
       "      <th>Interference Ratio</th>\n",
       "    </tr>\n",
       "  </thead>\n",
       "  <tbody>\n",
       "    <tr>\n",
       "      <th>0</th>\n",
       "      <td>1.5</td>\n",
       "      <td>0.1</td>\n",
       "      <td>0.137997</td>\n",
       "    </tr>\n",
       "    <tr>\n",
       "      <th>1</th>\n",
       "      <td>1.5</td>\n",
       "      <td>0.2</td>\n",
       "      <td>0.239602</td>\n",
       "    </tr>\n",
       "    <tr>\n",
       "      <th>2</th>\n",
       "      <td>1.5</td>\n",
       "      <td>0.3</td>\n",
       "      <td>0.319643</td>\n",
       "    </tr>\n",
       "    <tr>\n",
       "      <th>3</th>\n",
       "      <td>1.5</td>\n",
       "      <td>0.5</td>\n",
       "      <td>0.434766</td>\n",
       "    </tr>\n",
       "    <tr>\n",
       "      <th>4</th>\n",
       "      <td>1.5</td>\n",
       "      <td>0.7</td>\n",
       "      <td>0.516460</td>\n",
       "    </tr>\n",
       "    <tr>\n",
       "      <th>5</th>\n",
       "      <td>1.5</td>\n",
       "      <td>1.0</td>\n",
       "      <td>0.600732</td>\n",
       "    </tr>\n",
       "    <tr>\n",
       "      <th>6</th>\n",
       "      <td>1.5</td>\n",
       "      <td>1.5</td>\n",
       "      <td>0.691065</td>\n",
       "    </tr>\n",
       "    <tr>\n",
       "      <th>7</th>\n",
       "      <td>1.5</td>\n",
       "      <td>2.0</td>\n",
       "      <td>0.748389</td>\n",
       "    </tr>\n",
       "    <tr>\n",
       "      <th>8</th>\n",
       "      <td>1.5</td>\n",
       "      <td>3.0</td>\n",
       "      <td>0.813978</td>\n",
       "    </tr>\n",
       "    <tr>\n",
       "      <th>9</th>\n",
       "      <td>1.5</td>\n",
       "      <td>5.0</td>\n",
       "      <td>0.868572</td>\n",
       "    </tr>\n",
       "    <tr>\n",
       "      <th>10</th>\n",
       "      <td>1.5</td>\n",
       "      <td>10.0</td>\n",
       "      <td>0.895878</td>\n",
       "    </tr>\n",
       "    <tr>\n",
       "      <th>11</th>\n",
       "      <td>1.5</td>\n",
       "      <td>20.0</td>\n",
       "      <td>0.897658</td>\n",
       "    </tr>\n",
       "    <tr>\n",
       "      <th>12</th>\n",
       "      <td>1.5</td>\n",
       "      <td>50.0</td>\n",
       "      <td>0.897661</td>\n",
       "    </tr>\n",
       "  </tbody>\n",
       "</table>\n",
       "</div>"
      ],
      "text/plain": [
       "    Mass Tolerance  CCS Tolerance  Interference Ratio\n",
       "0              1.5            0.1            0.137997\n",
       "1              1.5            0.2            0.239602\n",
       "2              1.5            0.3            0.319643\n",
       "3              1.5            0.5            0.434766\n",
       "4              1.5            0.7            0.516460\n",
       "5              1.5            1.0            0.600732\n",
       "6              1.5            1.5            0.691065\n",
       "7              1.5            2.0            0.748389\n",
       "8              1.5            3.0            0.813978\n",
       "9              1.5            5.0            0.868572\n",
       "10             1.5           10.0            0.895878\n",
       "11             1.5           20.0            0.897658\n",
       "12             1.5           50.0            0.897661"
      ]
     },
     "execution_count": 51,
     "metadata": {},
     "output_type": "execute_result"
    }
   ],
   "source": [
    "# Results, charge state 2\n",
    "out2 = pd.DataFrame(evaluation_cs2)\n",
    "out2.columns = ['Mass Tolerance', 'CCS Tolerance', 'Interference Ratio']\n",
    "out2"
   ]
  },
  {
   "cell_type": "code",
   "execution_count": 52,
   "metadata": {},
   "outputs": [],
   "source": [
    "CCS_tolerances =  [0.1, 0.2, 0.3, 0.5, 0.7, 1.0, 1.5, 2.0, 3, 5, 10, 20, 50]\n",
    "mass_tolerance = 1.5\n",
    "    \n",
    "evaluation_cs3 = []\n",
    "for ccs_tolerance in CCS_tolerances:     \n",
    "    ratio = kdtree_worker(mass_tolerance, ccs_tolerance, evidence_tryptic_cs3['m/z'], evidence_tryptic_cs3['CCS'])\n",
    "    evaluation_cs3.append((mass_tolerance, ccs_tolerance, ratio))"
   ]
  },
  {
   "cell_type": "code",
   "execution_count": 53,
   "metadata": {},
   "outputs": [
    {
     "data": {
      "text/html": [
       "<div>\n",
       "<style scoped>\n",
       "    .dataframe tbody tr th:only-of-type {\n",
       "        vertical-align: middle;\n",
       "    }\n",
       "\n",
       "    .dataframe tbody tr th {\n",
       "        vertical-align: top;\n",
       "    }\n",
       "\n",
       "    .dataframe thead th {\n",
       "        text-align: right;\n",
       "    }\n",
       "</style>\n",
       "<table border=\"1\" class=\"dataframe\">\n",
       "  <thead>\n",
       "    <tr style=\"text-align: right;\">\n",
       "      <th></th>\n",
       "      <th>Mass Tolerance</th>\n",
       "      <th>CCS Tolerance</th>\n",
       "      <th>Interference Ratio</th>\n",
       "    </tr>\n",
       "  </thead>\n",
       "  <tbody>\n",
       "    <tr>\n",
       "      <th>0</th>\n",
       "      <td>1.5</td>\n",
       "      <td>0.1</td>\n",
       "      <td>0.020078</td>\n",
       "    </tr>\n",
       "    <tr>\n",
       "      <th>1</th>\n",
       "      <td>1.5</td>\n",
       "      <td>0.2</td>\n",
       "      <td>0.040057</td>\n",
       "    </tr>\n",
       "    <tr>\n",
       "      <th>2</th>\n",
       "      <td>1.5</td>\n",
       "      <td>0.3</td>\n",
       "      <td>0.058662</td>\n",
       "    </tr>\n",
       "    <tr>\n",
       "      <th>3</th>\n",
       "      <td>1.5</td>\n",
       "      <td>0.5</td>\n",
       "      <td>0.094362</td>\n",
       "    </tr>\n",
       "    <tr>\n",
       "      <th>4</th>\n",
       "      <td>1.5</td>\n",
       "      <td>0.7</td>\n",
       "      <td>0.127947</td>\n",
       "    </tr>\n",
       "    <tr>\n",
       "      <th>5</th>\n",
       "      <td>1.5</td>\n",
       "      <td>1.0</td>\n",
       "      <td>0.174334</td>\n",
       "    </tr>\n",
       "    <tr>\n",
       "      <th>6</th>\n",
       "      <td>1.5</td>\n",
       "      <td>1.5</td>\n",
       "      <td>0.241182</td>\n",
       "    </tr>\n",
       "    <tr>\n",
       "      <th>7</th>\n",
       "      <td>1.5</td>\n",
       "      <td>2.0</td>\n",
       "      <td>0.297951</td>\n",
       "    </tr>\n",
       "    <tr>\n",
       "      <th>8</th>\n",
       "      <td>1.5</td>\n",
       "      <td>3.0</td>\n",
       "      <td>0.386011</td>\n",
       "    </tr>\n",
       "    <tr>\n",
       "      <th>9</th>\n",
       "      <td>1.5</td>\n",
       "      <td>5.0</td>\n",
       "      <td>0.499665</td>\n",
       "    </tr>\n",
       "    <tr>\n",
       "      <th>10</th>\n",
       "      <td>1.5</td>\n",
       "      <td>10.0</td>\n",
       "      <td>0.623533</td>\n",
       "    </tr>\n",
       "    <tr>\n",
       "      <th>11</th>\n",
       "      <td>1.5</td>\n",
       "      <td>20.0</td>\n",
       "      <td>0.667866</td>\n",
       "    </tr>\n",
       "    <tr>\n",
       "      <th>12</th>\n",
       "      <td>1.5</td>\n",
       "      <td>50.0</td>\n",
       "      <td>0.668393</td>\n",
       "    </tr>\n",
       "  </tbody>\n",
       "</table>\n",
       "</div>"
      ],
      "text/plain": [
       "    Mass Tolerance  CCS Tolerance  Interference Ratio\n",
       "0              1.5            0.1            0.020078\n",
       "1              1.5            0.2            0.040057\n",
       "2              1.5            0.3            0.058662\n",
       "3              1.5            0.5            0.094362\n",
       "4              1.5            0.7            0.127947\n",
       "5              1.5            1.0            0.174334\n",
       "6              1.5            1.5            0.241182\n",
       "7              1.5            2.0            0.297951\n",
       "8              1.5            3.0            0.386011\n",
       "9              1.5            5.0            0.499665\n",
       "10             1.5           10.0            0.623533\n",
       "11             1.5           20.0            0.667866\n",
       "12             1.5           50.0            0.668393"
      ]
     },
     "execution_count": 53,
     "metadata": {},
     "output_type": "execute_result"
    }
   ],
   "source": [
    "# Results, charge state 3\n",
    "out3 = pd.DataFrame(evaluation_cs3)\n",
    "out3.columns = ['Mass Tolerance', 'CCS Tolerance', 'Interference Ratio']\n",
    "out3"
   ]
  },
  {
   "cell_type": "code",
   "execution_count": 54,
   "metadata": {},
   "outputs": [
    {
     "data": {
      "image/png": "[encoded data removed]",
      "text/plain": [
       "<Figure size 288x216 with 1 Axes>"
      ]
     },
     "metadata": {
      "needs_background": "light"
     },
     "output_type": "display_data"
    }
   ],
   "source": [
    "fig = plt.figure(figsize=(4,3))\n",
    "\n",
    "ax = plt.axes()\n",
    "\n",
    "plt.scatter(out2['CCS Tolerance'], out2['Interference Ratio']*100, marker = 'x', label = 'charge 2', color = 'black')\n",
    "plt.scatter(out3['CCS Tolerance'], out3['Interference Ratio']*100, marker = '+', label = 'charge 3', color = 'black')\n",
    "\n",
    "\n",
    "plt.xlabel('CCS Tolerance (+/- %)')\n",
    "plt.ylabel('Non-unique fraction (%)')\n",
    "\n",
    "ax.spines['right'].set_visible(False)\n",
    "ax.spines['top'].set_visible(False)\n",
    "\n",
    "plt.ylim((0,100))\n",
    "plt.xlim((0.05,60))\n",
    "plt.xscale('log')\n",
    "\n",
    "plt.legend()\n",
    "\n",
    "plt.savefig(\"figures/Figure_2_d.pdf\");\n",
    "plt.show()"
   ]
  },
  {
   "cell_type": "markdown",
   "metadata": {},
   "source": [
    "### Candidate peptide sequences in a given window"
   ]
  },
  {
   "cell_type": "code",
   "execution_count": 55,
   "metadata": {},
   "outputs": [],
   "source": [
    "CCS_tolerances =  [0.5, 1.5, 100]\n",
    "mass_tolerance = 1.5  "
   ]
  },
  {
   "cell_type": "code",
   "execution_count": 56,
   "metadata": {},
   "outputs": [],
   "source": [
    "evaluation = []\n",
    "for ccs_tolerance in CCS_tolerances:     \n",
    "    candidates = kdtree_worker_count(mass_tolerance, ccs_tolerance, evidence_tryptic_cs2['m/z'], evidence_tryptic_cs2['CCS'])\n",
    "    evaluation.append((mass_tolerance, ccs_tolerance, candidates))"
   ]
  },
  {
   "cell_type": "code",
   "execution_count": 67,
   "metadata": {},
   "outputs": [
    {
     "data": {
      "image/png": "[encoded data removed]",
      "text/plain": [
       "<Figure size 432x288 with 1 Axes>"
      ]
     },
     "metadata": {
      "needs_background": "light"
     },
     "output_type": "display_data"
    }
   ],
   "source": [
    "# no ion mobility\n",
    "plt.hist(evaluation[2][2], align='left', bins=range(1,50))\n",
    "plt.xticks(range(1, 50, 2), rotation=45);"
   ]
  },
  {
   "cell_type": "code",
   "execution_count": 68,
   "metadata": {},
   "outputs": [
    {
     "data": {
      "image/png": "[encoded data removed]",
      "text/plain": [
       "<Figure size 432x288 with 1 Axes>"
      ]
     },
     "metadata": {
      "needs_background": "light"
     },
     "output_type": "display_data"
    }
   ],
   "source": [
    "# 1.5% mobility deviation\n",
    "plt.hist(evaluation[1][2], align='left', bins=range(1,30))\n",
    "plt.xticks(range(1, 30, 2), rotation=45);"
   ]
  },
  {
   "cell_type": "code",
   "execution_count": 64,
   "metadata": {},
   "outputs": [
    {
     "data": {
      "image/png": "[encoded data removed]",
      "text/plain": [
       "<Figure size 432x288 with 1 Axes>"
      ]
     },
     "metadata": {
      "needs_background": "light"
     },
     "output_type": "display_data"
    }
   ],
   "source": [
    "# 0.5% mobility deviation\n",
    "plt.hist(evaluation[0][2], align='left', bins=range(1,14))\n",
    "plt.xticks(range(1, 14), rotation=45);"
   ]
  },
  {
   "cell_type": "code",
   "execution_count": 69,
   "metadata": {},
   "outputs": [
    {
     "data": {
      "text/plain": [
       "(1.0, 2.0, 5.0)"
      ]
     },
     "execution_count": 69,
     "metadata": {},
     "output_type": "execute_result"
    }
   ],
   "source": [
    "# Median number of doubly charged peptides in a +- 1.5 ppm x [0.5%, 1.5%, 100%] window\n",
    "np.median(evaluation[0][2]), np.median(evaluation[1][2]), np.median(evaluation[2][2])"
   ]
  },
  {
   "cell_type": "code",
   "execution_count": 70,
   "metadata": {},
   "outputs": [],
   "source": [
    "evaluation = []\n",
    "for ccs_tolerance in CCS_tolerances:     \n",
    "    candidates = kdtree_worker_count(mass_tolerance, ccs_tolerance, evidence_tryptic_cs3['m/z'], evidence_tryptic_cs3['CCS'])\n",
    "    evaluation.append((mass_tolerance, ccs_tolerance, candidates))"
   ]
  },
  {
   "cell_type": "code",
   "execution_count": 71,
   "metadata": {},
   "outputs": [
    {
     "data": {
      "image/png": "[encoded data removed]",
      "text/plain": [
       "<Figure size 432x288 with 1 Axes>"
      ]
     },
     "metadata": {
      "needs_background": "light"
     },
     "output_type": "display_data"
    }
   ],
   "source": [
    "# no ion mobility\n",
    "plt.hist(evaluation[2][2], align='left', bins=range(1, 16))\n",
    "plt.xticks(range(1, 16));"
   ]
  },
  {
   "cell_type": "code",
   "execution_count": 74,
   "metadata": {},
   "outputs": [
    {
     "data": {
      "image/png": "[encoded data removed]",
      "text/plain": [
       "<Figure size 432x288 with 1 Axes>"
      ]
     },
     "metadata": {
      "needs_background": "light"
     },
     "output_type": "display_data"
    }
   ],
   "source": [
    "# 1.5% mobility deviation\n",
    "plt.hist(evaluation[1][2], align='left', bins=range(1,6))\n",
    "plt.xticks(range(1, 6));"
   ]
  },
  {
   "cell_type": "code",
   "execution_count": 75,
   "metadata": {},
   "outputs": [
    {
     "data": {
      "image/png": "[encoded data removed]",
      "text/plain": [
       "<Figure size 432x288 with 1 Axes>"
      ]
     },
     "metadata": {
      "needs_background": "light"
     },
     "output_type": "display_data"
    }
   ],
   "source": [
    "# 0.5% mobility deviation\n",
    "plt.hist(evaluation[0][2], align='left', bins=range(1,6))\n",
    "plt.xticks(range(1, 6));"
   ]
  },
  {
   "cell_type": "code",
   "execution_count": 76,
   "metadata": {},
   "outputs": [
    {
     "data": {
      "text/plain": [
       "(1.0, 1.0, 2.0)"
      ]
     },
     "execution_count": 76,
     "metadata": {},
     "output_type": "execute_result"
    }
   ],
   "source": [
    "# Median number of triply charged peptides in a +- 1.5 ppm x [0.5%, 1.5%, 100%] window\n",
    "np.median(evaluation[0][2]), np.median(evaluation[1][2]), np.median(evaluation[2][2])"
   ]
  }
 ],
 "metadata": {
  "kernelspec": {
   "display_name": "Python 3",
   "language": "python",
   "name": "python3"
  },
  "language_info": {
   "codemirror_mode": {
    "name": "ipython",
    "version": 3
   },
   "file_extension": ".py",
   "mimetype": "text/x-python",
   "name": "python",
   "nbconvert_exporter": "python",
   "pygments_lexer": "ipython3",
   "version": "3.6.5"
  }
 },
 "nbformat": 4,
 "nbformat_minor": 2
}
